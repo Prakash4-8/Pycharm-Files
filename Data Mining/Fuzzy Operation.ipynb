{
 "cells": [
  {
   "cell_type": "code",
   "execution_count": 1,
   "id": "4272e5c2",
   "metadata": {
    "scrolled": true
   },
   "outputs": [
    {
     "data": {
      "text/html": [
       "<div>\n",
       "<style scoped>\n",
       "    .dataframe tbody tr th:only-of-type {\n",
       "        vertical-align: middle;\n",
       "    }\n",
       "\n",
       "    .dataframe tbody tr th {\n",
       "        vertical-align: top;\n",
       "    }\n",
       "\n",
       "    .dataframe thead th {\n",
       "        text-align: right;\n",
       "    }\n",
       "</style>\n",
       "<table border=\"1\" class=\"dataframe\">\n",
       "  <thead>\n",
       "    <tr style=\"text-align: right;\">\n",
       "      <th></th>\n",
       "      <th>Transactional</th>\n",
       "      <th>Iteam 1</th>\n",
       "      <th>Iteam 2</th>\n",
       "      <th>Iteam 3</th>\n",
       "      <th>Iteam 4</th>\n",
       "      <th>Iteam 5</th>\n",
       "    </tr>\n",
       "  </thead>\n",
       "  <tbody>\n",
       "    <tr>\n",
       "      <th>0</th>\n",
       "      <td>T1</td>\n",
       "      <td>1</td>\n",
       "      <td>1</td>\n",
       "      <td>1</td>\n",
       "      <td>0</td>\n",
       "      <td>0</td>\n",
       "    </tr>\n",
       "    <tr>\n",
       "      <th>1</th>\n",
       "      <td>T2</td>\n",
       "      <td>0</td>\n",
       "      <td>1</td>\n",
       "      <td>1</td>\n",
       "      <td>1</td>\n",
       "      <td>0</td>\n",
       "    </tr>\n",
       "    <tr>\n",
       "      <th>2</th>\n",
       "      <td>T3</td>\n",
       "      <td>0</td>\n",
       "      <td>0</td>\n",
       "      <td>0</td>\n",
       "      <td>1</td>\n",
       "      <td>1</td>\n",
       "    </tr>\n",
       "    <tr>\n",
       "      <th>3</th>\n",
       "      <td>T4</td>\n",
       "      <td>1</td>\n",
       "      <td>1</td>\n",
       "      <td>0</td>\n",
       "      <td>1</td>\n",
       "      <td>0</td>\n",
       "    </tr>\n",
       "    <tr>\n",
       "      <th>4</th>\n",
       "      <td>T5</td>\n",
       "      <td>1</td>\n",
       "      <td>1</td>\n",
       "      <td>1</td>\n",
       "      <td>0</td>\n",
       "      <td>1</td>\n",
       "    </tr>\n",
       "    <tr>\n",
       "      <th>5</th>\n",
       "      <td>T6</td>\n",
       "      <td>1</td>\n",
       "      <td>1</td>\n",
       "      <td>1</td>\n",
       "      <td>1</td>\n",
       "      <td>0</td>\n",
       "    </tr>\n",
       "  </tbody>\n",
       "</table>\n",
       "</div>"
      ],
      "text/plain": [
       "  Transactional  Iteam 1  Iteam 2  Iteam 3  Iteam 4  Iteam 5\n",
       "0            T1        1        1        1        0        0\n",
       "1            T2        0        1        1        1        0\n",
       "2            T3        0        0        0        1        1\n",
       "3            T4        1        1        0        1        0\n",
       "4            T5        1        1        1        0        1\n",
       "5            T6        1        1        1        1        0"
      ]
     },
     "execution_count": 1,
     "metadata": {},
     "output_type": "execute_result"
    }
   ],
   "source": [
    "import pandas as pd \n",
    "from itertools import combinations\n",
    "import numpy as np\n",
    "\n",
    "Gdata = pd.read_csv(\"C:/Users/bablu/Downloads/Example.csv\")\n",
    "Gdata"
   ]
  },
  {
   "cell_type": "code",
   "execution_count": 2,
   "id": "326d782f",
   "metadata": {},
   "outputs": [
    {
     "name": "stdout",
     "output_type": "stream",
     "text": [
      "[[1, 4], [2, 5], [3, 4], [4, 4], [5, 2]]\n"
     ]
    }
   ],
   "source": [
    "thold = 50\n",
    "con = 60\n",
    "freq1 = []\n",
    "min_feq = int(len(Gdata[\"Transactional\"])/100*thold)\n",
    "# count the feq\n",
    "for i in range(1,6):\n",
    "    freq1.append([i,sum(Gdata[f\"Iteam {i}\"])])\n",
    "print(freq1)"
   ]
  },
  {
   "cell_type": "code",
   "execution_count": 3,
   "id": "d9bbc37b",
   "metadata": {},
   "outputs": [
    {
     "name": "stdout",
     "output_type": "stream",
     "text": [
      "[[1, 4], [2, 5], [3, 4], [4, 4]]\n"
     ]
    }
   ],
   "source": [
    "# delete iteam\n",
    "for i in freq1:\n",
    "    if i[1] < min_feq:\n",
    "        freq1.remove(i)\n",
    "print(freq1)"
   ]
  },
  {
   "cell_type": "code",
   "execution_count": 4,
   "id": "24469d97",
   "metadata": {},
   "outputs": [
    {
     "data": {
      "text/plain": [
       "'1234'"
      ]
     },
     "execution_count": 4,
     "metadata": {},
     "output_type": "execute_result"
    }
   ],
   "source": [
    "# set2\n",
    "f2 = \"\"\n",
    "for i in freq1:\n",
    "    f2 += f\"{i[0]}\"\n",
    "f2"
   ]
  },
  {
   "cell_type": "code",
   "execution_count": 5,
   "id": "d8ed5e8e",
   "metadata": {},
   "outputs": [
    {
     "name": "stdout",
     "output_type": "stream",
     "text": [
      "[('1', '2'), ('1', '3'), ('1', '4'), ('2', '3'), ('2', '4'), ('3', '4')]\n"
     ]
    },
    {
     "data": {
      "text/plain": [
       "[4, 3, 2, 4, 3, 2]"
      ]
     },
     "execution_count": 5,
     "metadata": {},
     "output_type": "execute_result"
    }
   ],
   "source": [
    "uitem2 = list(combinations(f2, 2))\n",
    "ufeq2 = []\n",
    "\n",
    "# count the feq2\n",
    "for i in uitem2:\n",
    "    x=0\n",
    "    for j,k in zip(Gdata[f\"Iteam {i[0]}\"],Gdata[f\"Iteam {i[1]}\"]):\n",
    "        if j==1 and k==1:\n",
    "            x+=1\n",
    "    ufeq2.append(x)\n",
    "print(uitem2)\n",
    "ufeq2"
   ]
  },
  {
   "cell_type": "code",
   "execution_count": 6,
   "id": "6cf00653",
   "metadata": {},
   "outputs": [
    {
     "name": "stdout",
     "output_type": "stream",
     "text": [
      "[['1' '2']\n",
      " ['1' '3']\n",
      " ['2' '3']\n",
      " ['2' '4']]\n"
     ]
    },
    {
     "data": {
      "text/plain": [
       "array([4, 3, 4, 3])"
      ]
     },
     "execution_count": 6,
     "metadata": {},
     "output_type": "execute_result"
    }
   ],
   "source": [
    "#delet item for set of 2\n",
    "for i,j in zip(ufeq2,uitem2):\n",
    "    if i < min_feq:\n",
    "        uitem2.remove(j)\n",
    "        ufeq2.remove(i)\n",
    "\n",
    "set2_name =np.array(uitem2)\n",
    "set2_feq = np.array(ufeq2)\n",
    "print(set2_name)\n",
    "set2_feq"
   ]
  },
  {
   "cell_type": "code",
   "execution_count": 7,
   "id": "d99d548f",
   "metadata": {},
   "outputs": [
    {
     "name": "stdout",
     "output_type": "stream",
     "text": [
      "['1' '2' '3' '4']\n"
     ]
    },
    {
     "data": {
      "text/plain": [
       "[('1', '2', '3'), ('1', '2', '4'), ('1', '3', '4'), ('2', '3', '4')]"
      ]
     },
     "execution_count": 7,
     "metadata": {},
     "output_type": "execute_result"
    }
   ],
   "source": [
    "#set3\n",
    "u_item3 = np.unique(set2_name)\n",
    "set3_name = list(combinations(u_item3, 3))\n",
    "set3_feq = []\n",
    "print(u_item3)\n",
    "set3_name"
   ]
  },
  {
   "cell_type": "code",
   "execution_count": 8,
   "id": "ff9cfb0e",
   "metadata": {},
   "outputs": [
    {
     "name": "stdout",
     "output_type": "stream",
     "text": [
      "[('1', '2', '3'), ('1', '2', '4'), ('1', '3', '4'), ('2', '3', '4')]\n"
     ]
    },
    {
     "data": {
      "text/plain": [
       "[3, 2, 1, 2]"
      ]
     },
     "execution_count": 8,
     "metadata": {},
     "output_type": "execute_result"
    }
   ],
   "source": [
    "#count the feq\n",
    "for i in set3_name:\n",
    "    x=0\n",
    "    for j,k,l in zip(Gdata[f\"Iteam {i[0]}\"],Gdata[f\"Iteam {i[1]}\"],Gdata[f\"Iteam {i[2]}\"]):\n",
    "        if j==1 and k==1 and l==1:\n",
    "            x+=1\n",
    "    set3_feq.append(x)\n",
    "print(set3_name)\n",
    "set3_feq"
   ]
  },
  {
   "cell_type": "code",
   "execution_count": 9,
   "id": "bbfc9d81",
   "metadata": {},
   "outputs": [
    {
     "name": "stdout",
     "output_type": "stream",
     "text": [
      "[3, 1]\n"
     ]
    },
    {
     "data": {
      "text/plain": [
       "[('1', '2', '3'), ('1', '3', '4')]"
      ]
     },
     "execution_count": 9,
     "metadata": {},
     "output_type": "execute_result"
    }
   ],
   "source": [
    "\n",
    "#delet item for set of 3\n",
    "for i,j in zip(set3_feq,set3_name):\n",
    "    if min_feq > i:\n",
    "        set3_feq.remove(i)\n",
    "        \n",
    "        set3_name.remove(j)\n",
    "print(set3_feq)\n",
    "set3_name"
   ]
  },
  {
   "cell_type": "code",
   "execution_count": null,
   "id": "f0a96333",
   "metadata": {},
   "outputs": [],
   "source": []
  }
 ],
 "metadata": {
  "kernelspec": {
   "display_name": "Python 3",
   "language": "python",
   "name": "python3"
  },
  "language_info": {
   "codemirror_mode": {
    "name": "ipython",
    "version": 3
   },
   "file_extension": ".py",
   "mimetype": "text/x-python",
   "name": "python",
   "nbconvert_exporter": "python",
   "pygments_lexer": "ipython3",
   "version": "3.11.0 (main, Oct 24 2022, 18:26:48) [MSC v.1933 64 bit (AMD64)]"
  },
  "vscode": {
   "interpreter": {
    "hash": "24954d7b379d3c83f54002cb9f40afa4f0e98bd5075acbcc2b059a25c1fe98e5"
   }
  }
 },
 "nbformat": 4,
 "nbformat_minor": 5
}
