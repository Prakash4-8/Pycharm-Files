{
 "cells": [
  {
   "cell_type": "code",
   "execution_count": 9,
   "id": "397d0dc9",
   "metadata": {},
   "outputs": [
    {
     "name": "stdout",
     "output_type": "stream",
     "text": [
      "Requirement already satisfied: chefboost in c:\\users\\bablu\\appdata\\local\\programs\\python\\python311\\lib\\site-packages (0.0.17)\n",
      "Requirement already satisfied: pandas>=0.22.0 in c:\\users\\bablu\\appdata\\local\\programs\\python\\python311\\lib\\site-packages (from chefboost) (1.5.2)\n",
      "Requirement already satisfied: numpy>=1.14.0 in c:\\users\\bablu\\appdata\\local\\programs\\python\\python311\\lib\\site-packages (from chefboost) (1.23.5)\n",
      "Requirement already satisfied: tqdm>=4.30.0 in c:\\users\\bablu\\appdata\\local\\programs\\python\\python311\\lib\\site-packages (from chefboost) (4.64.1)\n",
      "Requirement already satisfied: psutil>=5.4.3 in c:\\users\\bablu\\appdata\\local\\programs\\python\\python311\\lib\\site-packages (from chefboost) (5.9.4)\n",
      "Requirement already satisfied: python-dateutil>=2.8.1 in c:\\users\\bablu\\appdata\\local\\programs\\python\\python311\\lib\\site-packages (from pandas>=0.22.0->chefboost) (2.8.2)\n",
      "Requirement already satisfied: pytz>=2020.1 in c:\\users\\bablu\\appdata\\local\\programs\\python\\python311\\lib\\site-packages (from pandas>=0.22.0->chefboost) (2022.6)\n",
      "Requirement already satisfied: colorama in c:\\users\\bablu\\appdata\\local\\programs\\python\\python311\\lib\\site-packages (from tqdm>=4.30.0->chefboost) (0.4.6)\n",
      "Requirement already satisfied: six>=1.5 in c:\\users\\bablu\\appdata\\local\\programs\\python\\python311\\lib\\site-packages (from python-dateutil>=2.8.1->pandas>=0.22.0->chefboost) (1.16.0)\n",
      "Note: you may need to restart the kernel to use updated packages.\n"
     ]
    }
   ],
   "source": [
    "pip install chefboost"
   ]
  },
  {
   "cell_type": "code",
   "execution_count": 10,
   "id": "53208988",
   "metadata": {},
   "outputs": [],
   "source": [
    "from chefboost import Chefboost as chef"
   ]
  },
  {
   "cell_type": "code",
   "execution_count": 11,
   "id": "817425fa",
   "metadata": {},
   "outputs": [
    {
     "name": "stdout",
     "output_type": "stream",
     "text": [
      "[INFO]:  4 CPU cores will be allocated in parallel running\n",
      "C4.5  tree is going to be built...\n",
      "-------------------------\n",
      "finished in  0.9125614166259766  seconds\n",
      "-------------------------\n",
      "Evaluate  train set\n",
      "-------------------------\n",
      "Accuracy:  100.0 % on  14  instances\n",
      "Labels:  ['No' 'Yes']\n",
      "Confusion matrix:  [[5, 0], [0, 9]]\n",
      "Precision:  100.0 %, Recall:  100.0 %, F1:  100.0 %\n"
     ]
    }
   ],
   "source": [
    "import pandas as pd\n",
    "\n",
    "df = pd.read_csv(\"C:/Users/bablu/Desktop/Data Set/golf-dataset.csv\")\n",
    "config = {'algorithm': 'C4.5'}\n",
    "model = chef.fit(df, config = config, target_label = 'Decision')"
   ]
  },
  {
   "cell_type": "code",
   "execution_count": 19,
   "id": "53c63718",
   "metadata": {},
   "outputs": [
    {
     "name": "stdout",
     "output_type": "stream",
     "text": [
      "No - No\n",
      "No - No\n",
      "Yes - Yes\n",
      "Yes - Yes\n",
      "Yes - Yes\n",
      "No - No\n",
      "Yes - Yes\n",
      "No - No\n",
      "Yes - Yes\n",
      "Yes - Yes\n",
      "Yes - Yes\n",
      "Yes - Yes\n",
      "Yes - Yes\n",
      "No - No\n"
     ]
    }
   ],
   "source": [
    "for index,instance in df.iterrows():\n",
    "    prediction = chef.predict(model, instance)\n",
    "    actual = instance['Decision']\n",
    "    if actual==prediction:\n",
    "        classified=True\n",
    "        \n",
    "    else:\n",
    "        classified=False\n",
    "        print(\"#\",end='')\n",
    "    print(actual,\"-\",prediction)"
   ]
  },
  {
   "cell_type": "code",
   "execution_count": null,
   "id": "de1838d8",
   "metadata": {},
   "outputs": [],
   "source": []
  },
  {
   "cell_type": "code",
   "execution_count": null,
   "id": "dbe2cc9c",
   "metadata": {},
   "outputs": [],
   "source": []
  }
 ],
 "metadata": {
  "kernelspec": {
   "display_name": "Python 3 (ipykernel)",
   "language": "python",
   "name": "python3"
  },
  "language_info": {
   "codemirror_mode": {
    "name": "ipython",
    "version": 3
   },
   "file_extension": ".py",
   "mimetype": "text/x-python",
   "name": "python",
   "nbconvert_exporter": "python",
   "pygments_lexer": "ipython3",
   "version": "3.11.0"
  }
 },
 "nbformat": 4,
 "nbformat_minor": 5
}
