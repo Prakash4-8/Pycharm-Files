{
 "cells": [
  {
   "cell_type": "code",
   "execution_count": null,
   "id": "152ae3c2",
   "metadata": {},
   "outputs": [
    {
     "name": "stdout",
     "output_type": "stream",
     "text": [
      "Assuming iteration starts from iter = 1 for users.\n",
      "The iteration actually starts from 0 .\n",
      "D1 1.8600000000000003\n",
      "D2 0.6599999999999998\n",
      "D1 0.66\n",
      "D2 2.2767999999999997\n",
      "D1 1.8655999999999997\n",
      "D2 0.17759999999999995\n",
      "D1 0.7056000000000002\n",
      "D2 2.634176\n",
      "D1 3.184896\n",
      "D2 0.016896\n",
      "D1 0.4728959999999999\n",
      "D2 2.45924608\n",
      "D1 2.03726336\n",
      "D2 0.00454656\n",
      "D1 0.53166336\n",
      "D2 2.9390253056\n",
      "Termination loop at iteration:  2 No updates anymore.\n",
      "Final Sequence:  ['unit_2', 'unit_1', 'unit_2', 'unit_1']\n"
     ]
    }
   ],
   "source": [
    "import numpy as np\n",
    "\n",
    "# Initializations\n",
    "# input Array\n",
    "# i1 = np.array([1, 1,0,0]); i2 = np.array([0,0,0,1]);\n",
    "# i3 = np.array([1, 0,0,0]);i4 = np.array([0, 0,1,1]); i_values = [i1, i2, i3, i4]\n",
    "\n",
    "i_values = [np.array([1, 1, 0, 0]), np.array([0, 0, 0, 1]), np.array([1, 0, 0, 0]), np.array([0, 0, 1, 1])]\n",
    "\n",
    "unit_1 = np.array([0.2, 0.6, 0.5, 0.9])\n",
    "unit_2 = np.array([0.8, 0.4, 0.7, 0.3])\n",
    "\n",
    "learning_rate = 0.6\n",
    "\n",
    "\n",
    "def update(unit, iValues):\n",
    "    return np.array(unit + learning_rate * (iValues - unit))\n",
    "\n",
    "\n",
    "i_w = 0\n",
    "\n",
    "\n",
    "def inner_loop(i_values, i):\n",
    "    global unit_1, unit_2\n",
    "\n",
    "    d_for_unit_1 = (unit_1[0] - i_values[i][0]) ** 2 + (unit_1[1] - i_values[i][1]) ** 2 + (\n",
    "                unit_1[2] - i_values[i][2]) ** 2 + (unit_1[3] - i_values[i][3]) ** 2\n",
    "    print('D1',d_for_unit_1)\n",
    "    d_for_unit_2 = (unit_2[0] - i_values[i][0]) ** 2 + (unit_2[i] - i_values[i][1]) ** 2 + (\n",
    "                unit_2[2] - i_values[i][2]) ** 2 + (unit_2[3] - i_values[i][3]) ** 2\n",
    "    print('D2',d_for_unit_2)\n",
    "    if d_for_unit_1 < d_for_unit_2:\n",
    "        updated_unit_1 = update(unit_1, i_values[i])\n",
    "        unit_1 = updated_unit_1\n",
    "        updated_unit_2 = unit_2\n",
    "        return 'unit_1'\n",
    "    else:\n",
    "        updated_unit_2 = update(unit_2, i_values[i])\n",
    "        unit_2 = updated_unit_2\n",
    "        updated_unit_1 = unit_1\n",
    "        return 'unit_2'\n",
    "\n",
    "\n",
    "print('Assuming iteration starts from iter = 1 for users.')\n",
    "print('The iteration actually starts from 0 .')\n",
    "\n",
    "prev_update_seq = []\n",
    "\n",
    "for i in range(4):\n",
    "    returned = inner_loop(i_values, i)\n",
    "    prev_update_seq.append(returned)\n",
    "iter = 0\n",
    "while (True):\n",
    "    curr_update_seq = []\n",
    "    for i in range(4):\n",
    "        returned = inner_loop(i_values, i)\n",
    "        curr_update_seq.append(returned)\n",
    "    flag = 0\n",
    "    for i in range(len(curr_update_seq)):\n",
    "        if (prev_update_seq[i]==curr_update_seq[i]):\n",
    "            flag = 1\n",
    "            break\n",
    "    if flag == 1:\n",
    "        print('Termination loop at iteration: ', iter + 2, 'No updates anymore.')\n",
    "        break\n",
    "        iter += 1\n",
    "\n",
    "print('Final Sequence: ', curr_update_seq)\n",
    "\n"
   ]
  },
  {
   "cell_type": "code",
   "execution_count": null,
   "id": "6e3a1c60",
   "metadata": {},
   "outputs": [],
   "source": []
  }
 ],
 "metadata": {
  "kernelspec": {
   "display_name": "Python 3",
   "language": "python",
   "name": "python3"
  },
  "language_info": {
   "codemirror_mode": {
    "name": "ipython",
    "version": 3
   },
   "file_extension": ".py",
   "mimetype": "text/x-python",
   "name": "python",
   "nbconvert_exporter": "python",
   "pygments_lexer": "ipython3",
   "version": "3.11.0 (main, Oct 24 2022, 18:26:48) [MSC v.1933 64 bit (AMD64)]"
  },
  "vscode": {
   "interpreter": {
    "hash": "24954d7b379d3c83f54002cb9f40afa4f0e98bd5075acbcc2b059a25c1fe98e5"
   }
  }
 },
 "nbformat": 4,
 "nbformat_minor": 5
}
