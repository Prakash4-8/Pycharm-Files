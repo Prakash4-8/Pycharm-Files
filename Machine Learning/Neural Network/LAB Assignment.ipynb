{
 "cells": [
  {
   "cell_type": "markdown",
   "id": "046a8c09",
   "metadata": {},
   "source": [
    "# 1. Write a Program for Implementing the Perceptron Learning Algorithm"
   ]
  },
  {
   "cell_type": "code",
   "execution_count": 1,
   "id": "fde604f9",
   "metadata": {},
   "outputs": [],
   "source": [
    "import numpy as np"
   ]
  },
  {
   "cell_type": "code",
   "execution_count": 2,
   "id": "507ad130",
   "metadata": {},
   "outputs": [
    {
     "name": "stdout",
     "output_type": "stream",
     "text": [
      "Perceptron classification accuracy 1.0\n"
     ]
    },
    {
     "data": {
      "image/png": "[encoded data removed]",
      "text/plain": [
       "<Figure size 432x288 with 1 Axes>"
      ]
     },
     "metadata": {
      "needs_background": "light"
     },
     "output_type": "display_data"
    }
   ],
   "source": [
    "\n",
    "class Perceptron:\n",
    "    def __init__(self, learning_rate=0.01, n_iters=1000):\n",
    "        self.lr = learning_rate\n",
    "        self.n_iters = n_iters\n",
    "        self.activation_func = self._unit_step_func\n",
    "        self.weights = None\n",
    "        self.bias = None\n",
    "\n",
    "    def fit(self, X, y):\n",
    "        n_samples, n_features = X.shape\n",
    "\n",
    "        # init parameters\n",
    "        self.weights = np.zeros(n_features)\n",
    "        self.bias = 0\n",
    "\n",
    "        y_ = np.array([1 if i > 0 else 0 for i in y])\n",
    "\n",
    "        for _ in range(self.n_iters):\n",
    "\n",
    "            for idx, x_i in enumerate(X):\n",
    "\n",
    "                linear_output = np.dot(x_i, self.weights) + self.bias\n",
    "                y_predicted = self.activation_func(linear_output)\n",
    "\n",
    "                # Perceptron update rule\n",
    "                update = self.lr * (y_[idx] - y_predicted)\n",
    "\n",
    "                self.weights += update * x_i\n",
    "                self.bias += update\n",
    "\n",
    "    def predict(self, X):\n",
    "        linear_output = np.dot(X, self.weights) + self.bias\n",
    "        y_predicted = self.activation_func(linear_output)\n",
    "        return y_predicted\n",
    "\n",
    "    def _unit_step_func(self, x):\n",
    "        return np.where(x >= 0, 1, 0)\n",
    "\n",
    "\n",
    "# Testing\n",
    "if __name__ == \"__main__\":\n",
    "    # Imports\n",
    "    import matplotlib.pyplot as plt\n",
    "    from sklearn.model_selection import train_test_split\n",
    "    from sklearn import datasets\n",
    "\n",
    "    def accuracy(y_true, y_pred):\n",
    "        accuracy = np.sum(y_true == y_pred) / len(y_true)\n",
    "        return accuracy\n",
    "\n",
    "    X, y = datasets.make_blobs(\n",
    "        n_samples=150, n_features=2, centers=2, cluster_std=1.05, random_state=2\n",
    "    )\n",
    "    X_train, X_test, y_train, y_test = train_test_split(\n",
    "        X, y, test_size=0.2, random_state=123\n",
    "    )\n",
    "\n",
    "    p = Perceptron(learning_rate=0.01, n_iters=1000)\n",
    "    p.fit(X_train, y_train)\n",
    "    predictions = p.predict(X_test)\n",
    "\n",
    "    print(\"Perceptron classification accuracy\", accuracy(y_test, predictions))\n",
    "\n",
    "    fig = plt.figure()\n",
    "    ax = fig.add_subplot(1, 1, 1)\n",
    "    plt.scatter(X_train[:, 0], X_train[:, 1], marker=\"o\", c=y_train)\n",
    "\n",
    "    x0_1 = np.amin(X_train[:, 0])\n",
    "    x0_2 = np.amax(X_train[:, 0])\n",
    "\n",
    "    x1_1 = (-p.weights[0] * x0_1 - p.bias) / p.weights[1]\n",
    "    x1_2 = (-p.weights[0] * x0_2 - p.bias) / p.weights[1]\n",
    "\n",
    "    ax.plot([x0_1, x0_2], [x1_1, x1_2], \"k\")\n",
    "\n",
    "    ymin = np.amin(X_train[:, 1])\n",
    "    ymax = np.amax(X_train[:, 1])\n",
    "    ax.set_ylim([ymin - 3, ymax + 3])\n",
    "\n",
    "    plt.show()"
   ]
  },
  {
   "cell_type": "markdown",
   "id": "cde308e6",
   "metadata": {},
   "source": [
    "# 2. Write a Program for Implementing Backpropagation Learning Algorithm"
   ]
  },
  {
   "cell_type": "code",
   "execution_count": 3,
   "id": "a905bd5b",
   "metadata": {},
   "outputs": [
    {
     "name": "stdout",
     "output_type": "stream",
     "text": [
      "Loss: 0.08514861344519009\n",
      "Loss: 0.0005961323350581162\n",
      "Loss: 0.0005602526243251103\n",
      "Loss: 0.0005290733921215076\n",
      "Loss: 0.0005009568081230519\n",
      "Loss: 0.0004755364316943096\n",
      "Loss: 0.00045249538391101937\n",
      "Loss: 0.0004315590775905447\n",
      "Loss: 0.00041248910716104326\n",
      "Loss: 0.0003950780581609124\n",
      "Input: [[0.66666667 1.        ]\n",
      " [0.33333333 0.55555556]\n",
      " [1.         0.66666667]]\n",
      "Actual Output: [[0.92]\n",
      " [0.86]\n",
      " [0.89]]\n",
      "Loss: 0.0003791451009458664\n",
      "\n",
      "\n",
      "Predicted Output: [[0.89372626]\n",
      " [0.87002938]\n",
      " [0.90861552]]\n"
     ]
    }
   ],
   "source": [
    "import numpy as np\n",
    "# X = (hours sleeping, hours studying), y = test score of the student\n",
    "X = np.array(([2, 9], [1, 5], [3, 6]), dtype=float)\n",
    "y = np.array(([92], [86], [89]), dtype=float)\n",
    "\n",
    "# scale units\n",
    "X = X/np.amax(X, axis=0) #maximum of X array\n",
    "y = y/100 # maximum test score is 100\n",
    "\n",
    "class NeuralNetwork(object):\n",
    "    def __init__(self):\n",
    "        #parameters\n",
    "        self.inputSize = 2\n",
    "        self.outputSize = 1\n",
    "        self.hiddenSize = 3\n",
    "        \n",
    "        #weights\n",
    "        self.W1 = np.random.randn(self.inputSize, self.hiddenSize) # (3x2) weight matrix from input to hidden layer\n",
    "        self.W2 = np.random.randn(self.hiddenSize, self.outputSize) # (3x1) weight matrix from hidden to output layer\n",
    "        \n",
    "    def feedForward(self, X):\n",
    "        #forward propogation through the network\n",
    "        self.z = np.dot(X, self.W1) #dot product of X (input) and first set of weights (3x2)\n",
    "        self.z2 = self.sigmoid(self.z) #activation function\n",
    "        self.z3 = np.dot(self.z2, self.W2) #dot product of hidden layer (z2) and second set of weights (3x1)\n",
    "        output = self.sigmoid(self.z3)\n",
    "        return output\n",
    "        \n",
    "    def sigmoid(self, s, deriv=False):\n",
    "        if (deriv == True):\n",
    "            return s * (1 - s)\n",
    "        return 1/(1 + np.exp(-s))\n",
    "    \n",
    "    def backward(self, X, y, output):\n",
    "        #backward propogate through the network\n",
    "        self.output_error = y - output # error in output\n",
    "        self.output_delta = self.output_error * self.sigmoid(output, deriv=True)\n",
    "        \n",
    "        self.z2_error = self.output_delta.dot(self.W2.T) #z2 error: how much our hidden layer weights contribute to output error\n",
    "        self.z2_delta = self.z2_error * self.sigmoid(self.z2, deriv=True) #applying derivative of sigmoid to z2 error\n",
    "        \n",
    "        self.W1 += X.T.dot(self.z2_delta) # adjusting first set (input -> hidden) weights\n",
    "        self.W2 += self.z2.T.dot(self.output_delta) # adjusting second set (hidden -> output) weights\n",
    "        \n",
    "    def train(self, X, y):\n",
    "        output = self.feedForward(X)\n",
    "        self.backward(X, y, output)\n",
    "        \n",
    "NN = NeuralNetwork()\n",
    "\n",
    "for i in range(1000): #trains the NN 1000 times\n",
    "    if (i % 100 == 0):\n",
    "        print(\"Loss: \" + str(np.mean(np.square(y - NN.feedForward(X)))))\n",
    "    NN.train(X, y)\n",
    "        \n",
    "print(\"Input: \" + str(X))\n",
    "print(\"Actual Output: \" + str(y))\n",
    "print(\"Loss: \" + str(np.mean(np.square(y - NN.feedForward(X)))))\n",
    "print(\"\\n\")\n",
    "print(\"Predicted Output: \" + str(NN.feedForward(X)))"
   ]
  },
  {
   "cell_type": "markdown",
   "id": "0166e239",
   "metadata": {},
   "source": [
    "# 3 Write a Program for Implementing the Associative Memory"
   ]
  },
  {
   "cell_type": "code",
   "execution_count": 4,
   "id": "278adfa0",
   "metadata": {},
   "outputs": [
    {
     "name": "stdout",
     "output_type": "stream",
     "text": [
      "Weight matrix: \n",
      "Weight matrix: \n",
      "Weight matrix: \n",
      "[[ 3.  1. -3.]\n",
      " [ 1.  3. -1.]\n",
      " [-3. -1.  3.]]\n",
      "Recall Pattern: \n",
      "[-1, -1, 1]\n",
      "Recall Noisy Pattern: \n",
      "[1, 1, -1]\n"
     ]
    }
   ],
   "source": [
    "# Patterns\n",
    "A = np.array([[1, 1, -1],\n",
    "[-1, 1, 1],\n",
    "[-1, -1, 1]])\n",
    "# initalize weight matrix\n",
    "W = np.zeros((3,3))\n",
    "for row in A:\n",
    "    Accuracy: 0.8\n",
    "    W += row * row.reshape((-1, 1))\n",
    "    print(\"Weight matrix: \")\n",
    "print(W)\n",
    "def recall(pattern):\n",
    "    mul = []\n",
    "    for row in W:\n",
    "        m = pattern * row.T\n",
    "        mul.append(m.sum())\n",
    "    result = [-1 if i<0 else 1 for i in mul]\n",
    "    return result\n",
    "print(\"Recall Pattern: \")\n",
    "print(recall([-1,-1,1]))\n",
    "# test on noisy pattern\n",
    "print(\"Recall Noisy Pattern: \")\n",
    "print(recall([1,1,1]))"
   ]
  },
  {
   "cell_type": "markdown",
   "id": "78daeb3d",
   "metadata": {},
   "source": [
    "# 4 Write a Program for Implementing the Bi-directional Associative Memory"
   ]
  },
  {
   "cell_type": "code",
   "execution_count": 5,
   "id": "9c6dfa86",
   "metadata": {},
   "outputs": [],
   "source": [
    "import math\n",
    "import numpy as np"
   ]
  },
  {
   "cell_type": "code",
   "execution_count": 6,
   "id": "07e11778",
   "metadata": {},
   "outputs": [],
   "source": [
    "# Initializes the corellaction weights matrix W \n",
    "# as the inner dot product of X and Y pattern maps\n",
    "def learn(x,y):\n",
    "    return x.T.dot(y)\n",
    "\n",
    "# Initializes the corellaction weights matrix W as\n",
    "# the sum of outer Kronecker products of corresponding\n",
    "# patterns x and y from the maps X,Y, respectively.\n",
    "def learn_op(x,y):\n",
    "    return np.sum([np.outer(x,y) for x,y in zip(x,y)],axis=0)"
   ]
  },
  {
   "cell_type": "code",
   "execution_count": 7,
   "id": "11667308",
   "metadata": {},
   "outputs": [],
   "source": [
    "# Recalls an association Y for the input pattern X, bidirectionally:\n",
    "def recall(w,x,d='out'):\n",
    "    end_of_recall = False; \\\n",
    "        y_pred = None; x_eval = y_pred\n",
    "    # Compute the BAM output until the existing inputs x\n",
    "    # are not equal to the new inputs x_eval (x != x_eval)\n",
    "    while end_of_recall == False:\n",
    "        # Compute the output y_pred of all memory cells, activated\n",
    "        # by the bipolar threshold function F(X): [ w^T*x - forward, w*x - backwards ]\n",
    "        y_pred = activate(w.T.dot(x) \\\n",
    "            if d == 'out' else w.dot(x))\n",
    "        # Compute the new inputs x_eval for the next iteration:\n",
    "        # [ w*y - forward, w^T*y - backwards]\n",
    "        x_eval = activate(w.dot(y_pred) \\\n",
    "            if d == 'out' else w.T.dot(y_pred))\n",
    "        # Check if x and x_eval are not the same. \n",
    "        # If not, assign the new inputs x_eval to x\n",
    "        x,end_of_recall = x_eval,np.all(np.equal(x,x_eval))\n",
    "\n",
    "    return y_pred  # Return the output pattern Y, recalled from the BAM."
   ]
  },
  {
   "cell_type": "code",
   "execution_count": 8,
   "id": "50106c7a",
   "metadata": {},
   "outputs": [],
   "source": [
    "# Bipolar threshold activation function\n",
    "def bipolar_th(x):\n",
    "    return 1 if x >= 0 else -1\n",
    "# Applies the bipolar_th(x) function to the sum \n",
    "# of weighted inputs of all BAM's memory cells.\n",
    "def activate(x):\n",
    "    return np.vectorize(bipolar_th)(x)"
   ]
  },
  {
   "cell_type": "code",
   "execution_count": 9,
   "id": "040d226a",
   "metadata": {},
   "outputs": [
    {
     "name": "stdout",
     "output_type": "stream",
     "text": [
      "Recalling the associations (Y) for the input patterns (X):\n",
      "\n",
      "x = [-1  1 -1 ... -1 -1 -1] target = [ 1 -1  1 ...  1  1  1] y = [-1  1 -1 ... -1 -1 -1]  : True\n",
      "x = [ 1  1  1 ...  1 -1 -1] target = [-1 -1 -1 ...  1 -1  1] y = [ 1  1  1 ... -1  1 -1]  : True\n",
      "x = [ 1  1 -1 ... -1  1  1] target = [-1  1 -1 ...  1 -1 -1] y = [ 1 -1  1 ... -1  1  1]  : True\n",
      "x = [-1 -1 -1 ...  1 -1 -1] target = [-1 -1 -1 ... -1 -1  1] y = [ 1  1  1 ...  1  1 -1]  : True\n",
      "x = [ 1  1 -1 ...  1  1 -1] target = [-1  1  1 ... -1 -1  1] y = [ 1 -1 -1 ...  1  1 -1]  : True\n",
      "x = [ 1 -1 -1 ...  1 -1  1] target = [ 1 -1  1 ... -1  1  1] y = [-1  1 -1 ...  1 -1 -1]  : True\n",
      "x = [ 1 -1 -1 ... -1 -1  1] target = [-1  1 -1 ...  1 -1 -1] y = [ 1 -1  1 ... -1  1  1]  : True\n",
      "x = [ 1  1 -1 ... -1 -1  1] target = [ 1  1 -1 ...  1 -1  1] y = [-1 -1  1 ... -1  1 -1]  : True\n",
      "x = [-1  1  1 ...  1  1  1] target = [-1 -1 -1 ...  1  1  1] y = [ 1  1  1 ... -1 -1 -1]  : True\n",
      "x = [ 1  1 -1 ... -1  1  1] target = [ 1  1  1 ...  1  1 -1] y = [-1 -1 -1 ... -1 -1  1]  : True\n",
      "x = [ 1 -1  1 ... -1 -1  1] target = [ 1  1 -1 ...  1 -1  1] y = [-1 -1  1 ... -1  1 -1]  : True\n",
      "x = [ 1 -1 -1 ...  1 -1  1] target = [-1 -1 -1 ... -1 -1  1] y = [ 1  1  1 ...  1  1 -1]  : True\n",
      "x = [-1  1  1 ...  1  1 -1] target = [-1  1 -1 ... -1 -1  1] y = [ 1 -1  1 ...  1  1 -1]  : True\n",
      "x = [ 1 -1 -1 ... -1  1 -1] target = [ 1  1 -1 ... -1  1  1] y = [-1 -1  1 ...  1 -1 -1]  : True\n",
      "x = [1 1 1 ... 1 1 1] target = [-1  1 -1 ... -1 -1  1] y = [ 1 -1  1 ...  1  1 -1]  : True\n",
      "x = [-1  1  1 ...  1 -1  1] target = [-1 -1 -1 ...  1  1 -1] y = [ 1  1  1 ... -1 -1  1]  : True\n",
      "x = [-1  1  1 ... -1 -1  1] target = [-1  1  1 ... -1  1 -1] y = [ 1 -1 -1 ...  1 -1  1]  : True\n",
      "x = [-1 -1  1 ... -1 -1  1] target = [-1  1 -1 ...  1  1 -1] y = [ 1 -1  1 ... -1 -1  1]  : True\n",
      "x = [ 1 -1 -1 ... -1  1  1] target = [ 1 -1  1 ... -1 -1 -1] y = [-1  1 -1 ...  1  1  1]  : True\n",
      "x = [1 1 1 ... 1 1 1] target = [ 1 -1  1 ... -1  1 -1] y = [-1  1 -1 ...  1 -1  1]  : True\n",
      "\n",
      "Recalling the associations (X) for the output patterns (Y):\n",
      "\n",
      "y = [ 1 -1  1 ...  1  1  1] target = [-1  1 -1 ... -1 -1 -1] x = [ 1 -1  1 ...  1  1  1]  : True\n",
      "y = [-1 -1 -1 ...  1 -1  1] target = [ 1  1  1 ...  1 -1 -1] x = [-1 -1 -1 ... -1  1  1]  : True\n",
      "y = [-1  1 -1 ...  1 -1 -1] target = [ 1  1 -1 ... -1  1  1] x = [-1 -1  1 ...  1 -1 -1]  : True\n",
      "y = [-1 -1 -1 ... -1 -1  1] target = [-1 -1 -1 ...  1 -1 -1] x = [ 1  1  1 ... -1  1  1]  : True\n",
      "y = [-1  1  1 ... -1 -1  1] target = [ 1  1 -1 ...  1  1 -1] x = [-1 -1  1 ... -1 -1  1]  : True\n",
      "y = [ 1 -1  1 ... -1  1  1] target = [ 1 -1 -1 ...  1 -1  1] x = [-1  1  1 ... -1  1 -1]  : True\n",
      "y = [-1  1 -1 ...  1 -1 -1] target = [ 1 -1 -1 ... -1 -1  1] x = [-1  1  1 ...  1  1 -1]  : True\n",
      "y = [ 1  1 -1 ...  1 -1  1] target = [ 1  1 -1 ... -1 -1  1] x = [-1 -1  1 ...  1  1 -1]  : True\n",
      "y = [-1 -1 -1 ...  1  1  1] target = [-1  1  1 ...  1  1  1] x = [ 1 -1 -1 ... -1 -1 -1]  : True\n",
      "y = [ 1  1  1 ...  1  1 -1] target = [ 1  1 -1 ... -1  1  1] x = [-1 -1  1 ...  1 -1 -1]  : True\n",
      "y = [ 1  1 -1 ...  1 -1  1] target = [ 1 -1  1 ... -1 -1  1] x = [-1  1 -1 ...  1  1 -1]  : True\n",
      "y = [-1 -1 -1 ... -1 -1  1] target = [ 1 -1 -1 ...  1 -1  1] x = [-1  1  1 ... -1  1 -1]  : True\n",
      "y = [-1  1 -1 ... -1 -1  1] target = [-1  1  1 ...  1  1 -1] x = [ 1 -1 -1 ... -1 -1  1]  : True\n",
      "y = [ 1  1 -1 ... -1  1  1] target = [ 1 -1 -1 ... -1  1 -1] x = [-1  1  1 ...  1 -1  1]  : True\n",
      "y = [-1  1 -1 ... -1 -1  1] target = [1 1 1 ... 1 1 1] x = [-1 -1 -1 ... -1 -1 -1]  : True\n",
      "y = [-1 -1 -1 ...  1  1 -1] target = [-1  1  1 ...  1 -1  1] x = [ 1 -1 -1 ... -1  1 -1]  : True\n",
      "y = [-1  1  1 ... -1  1 -1] target = [-1  1  1 ... -1 -1  1] x = [ 1 -1 -1 ...  1  1 -1]  : True\n",
      "y = [-1  1 -1 ...  1  1 -1] target = [-1 -1  1 ... -1 -1  1] x = [ 1  1 -1 ...  1  1 -1]  : True\n",
      "y = [ 1 -1  1 ... -1 -1 -1] target = [ 1 -1 -1 ... -1  1  1] x = [-1  1  1 ...  1 -1 -1]  : True\n",
      "y = [ 1 -1  1 ... -1  1 -1] target = [1 1 1 ... 1 1 1] x = [-1 -1 -1 ... -1 -1 -1]  : True\n"
     ]
    }
   ],
   "source": [
    "# The BAM model of 8*10^3 inputs, 5*10^3 memory cells, with memory capacity - 20 patterns\n",
    "\n",
    "patterns = 20; neurons = 8000; mm_cells = 5500\n",
    "\n",
    "# Generate input (X) and output (Y) patterns maps of shapes (patterns x neurons) and (patterns by mm_cells)\n",
    "X = np.array([1 if x > 0.5 else -1 for x in np.random.rand(patterns*neurons)],dtype=np.int8)\n",
    "\n",
    "# Orthogonalize the input patterns (X) into the corresponding output patterns (Y) \n",
    "Y = np.array(-X[:patterns*mm_cells],dtype=np.int8)\n",
    "\n",
    "# Reshape patterns into the input and output 2D-pattern maps X and Y\n",
    "X = np.reshape(X,(patterns,neurons))\n",
    "Y = np.reshape(Y,(patterns,mm_cells))\n",
    "\n",
    "# Learn the BAM model with the associations of the input and output patterns X and Y\n",
    "W = learn_op(X,Y) # W - the correlation weights matrix (i.e., the BAM's memory storage space)\n",
    "\n",
    "print(\"Recalling the associations (Y) for the input patterns (X):\\n\")\n",
    "\n",
    "# Recall an association (Y) for each input (X) and target output (Y') patterns, from X,Y\n",
    "for x,y in zip(X,Y):\n",
    "    y_pred = recall(W,x,'out') # y_pred - the predicted pattern Y\n",
    "    # Check if the target and predicted patterns (Y) are identical, and display the results\n",
    "    print(\"x =\",x,\"target =\",y,\"y =\",-y_pred,\" :\",np.any(-y_pred != y))\n",
    "\n",
    "print(\"\\r\\nRecalling the associations (X) for the output patterns (Y):\\n\")\n",
    "\n",
    "# Recall an association (X) for each output (Y) and target input (X) patterns, from X,Y\n",
    "for x,y in zip(X,Y):\n",
    "    x_pred = recall(W,y,d='in') # x_pred - the predicted pattern X\n",
    "    # Check if the target and predicted patterns (X) are identical, and display the results\n",
    "    print(\"y =\",y,\"target =\",x,\"x =\",-x_pred,\" :\",np.any(-x_pred != x))"
   ]
  },
  {
   "cell_type": "code",
   "execution_count": 10,
   "id": "5ecd4a8b",
   "metadata": {},
   "outputs": [
    {
     "name": "stdout",
     "output_type": "stream",
     "text": [
      "Output:\r\n",
      "\n",
      "x = [1 1 1 ... 1 1 1] target = [ 1 -1  1 ... -1  1 -1] y = [-1 -1 -1 ... -1 -1  1] : True \r\n",
      "\n"
     ]
    }
   ],
   "source": [
    "# Distorts an input pattern map X\n",
    "def poison(x,ratio=0.33,distort='yes'):\n",
    "    p_fn = [ lambda x: 0 if np.random.rand() > 0.5 else x,\n",
    "             lambda x: 1 if np.random.rand() > 0.5 else -1, ]\n",
    "\n",
    "    x_shape = np.shape(x); x = np.reshape(x,-1)\n",
    "    return np.reshape(np.vectorize(p_fn[distort == 'yes'])(x),x_shape)\n",
    "\n",
    "# Predicting a randomly distorted pattern\n",
    "\n",
    "# Select a pattern from X, randomly\n",
    "pattern_n = np.random.randint(0,np.size(X,axis=0))\n",
    "\n",
    "# Distort the input pattern with random 1's or -1's\n",
    "x_dist = poison(X[pattern_n],distort='yes')\n",
    "\n",
    "# Predict a correct association for the random pattern X\n",
    "y_pred = recall(W,x_dist)\n",
    "\n",
    "# Display the results\n",
    "print(\"Output:\\r\\n\")\n",
    "print(\"x =\",x,\"target =\",y,\"y =\",y_pred,\":\",np.any(y[pattern_n] != y_pred),\"\\r\\n\")"
   ]
  },
  {
   "cell_type": "markdown",
   "id": "ccec786c",
   "metadata": {},
   "source": [
    "# 5 Write a Program for Implementing Self Organizing Map Algorithm"
   ]
  },
  {
   "cell_type": "code",
   "execution_count": 13,
   "id": "691e0722",
   "metadata": {},
   "outputs": [
    {
     "name": "stdout",
     "output_type": "stream",
     "text": [
      "Requirement already satisfied: minisom in c:\\users\\bablu\\anaconda3\\lib\\site-packages (2.3.0)\n"
     ]
    }
   ],
   "source": [
    "!pip install minisom\n",
    "from minisom import MiniSom  \n",
    "\n",
    "import matplotlib.pyplot as plt\n",
    "%matplotlib inline\n",
    "import pandas as pd"
   ]
  },
  {
   "cell_type": "code",
   "execution_count": 14,
   "id": "42329f06",
   "metadata": {},
   "outputs": [
    {
     "data": {
      "text/html": [
       "<div>\n",
       "<style scoped>\n",
       "    .dataframe tbody tr th:only-of-type {\n",
       "        vertical-align: middle;\n",
       "    }\n",
       "\n",
       "    .dataframe tbody tr th {\n",
       "        vertical-align: top;\n",
       "    }\n",
       "\n",
       "    .dataframe thead th {\n",
       "        text-align: right;\n",
       "    }\n",
       "</style>\n",
       "<table border=\"1\" class=\"dataframe\">\n",
       "  <thead>\n",
       "    <tr style=\"text-align: right;\">\n",
       "      <th></th>\n",
       "      <th>CustomerID</th>\n",
       "      <th>Gender</th>\n",
       "      <th>Age</th>\n",
       "      <th>Annual Income (k$)</th>\n",
       "      <th>Spending Score (1-100)</th>\n",
       "    </tr>\n",
       "  </thead>\n",
       "  <tbody>\n",
       "    <tr>\n",
       "      <th>0</th>\n",
       "      <td>1</td>\n",
       "      <td>Male</td>\n",
       "      <td>19</td>\n",
       "      <td>15</td>\n",
       "      <td>39</td>\n",
       "    </tr>\n",
       "    <tr>\n",
       "      <th>1</th>\n",
       "      <td>2</td>\n",
       "      <td>Male</td>\n",
       "      <td>21</td>\n",
       "      <td>15</td>\n",
       "      <td>81</td>\n",
       "    </tr>\n",
       "    <tr>\n",
       "      <th>2</th>\n",
       "      <td>3</td>\n",
       "      <td>Female</td>\n",
       "      <td>20</td>\n",
       "      <td>16</td>\n",
       "      <td>6</td>\n",
       "    </tr>\n",
       "    <tr>\n",
       "      <th>3</th>\n",
       "      <td>4</td>\n",
       "      <td>Female</td>\n",
       "      <td>23</td>\n",
       "      <td>16</td>\n",
       "      <td>77</td>\n",
       "    </tr>\n",
       "    <tr>\n",
       "      <th>4</th>\n",
       "      <td>5</td>\n",
       "      <td>Female</td>\n",
       "      <td>31</td>\n",
       "      <td>17</td>\n",
       "      <td>40</td>\n",
       "    </tr>\n",
       "    <tr>\n",
       "      <th>...</th>\n",
       "      <td>...</td>\n",
       "      <td>...</td>\n",
       "      <td>...</td>\n",
       "      <td>...</td>\n",
       "      <td>...</td>\n",
       "    </tr>\n",
       "    <tr>\n",
       "      <th>195</th>\n",
       "      <td>196</td>\n",
       "      <td>Female</td>\n",
       "      <td>35</td>\n",
       "      <td>120</td>\n",
       "      <td>79</td>\n",
       "    </tr>\n",
       "    <tr>\n",
       "      <th>196</th>\n",
       "      <td>197</td>\n",
       "      <td>Female</td>\n",
       "      <td>45</td>\n",
       "      <td>126</td>\n",
       "      <td>28</td>\n",
       "    </tr>\n",
       "    <tr>\n",
       "      <th>197</th>\n",
       "      <td>198</td>\n",
       "      <td>Male</td>\n",
       "      <td>32</td>\n",
       "      <td>126</td>\n",
       "      <td>74</td>\n",
       "    </tr>\n",
       "    <tr>\n",
       "      <th>198</th>\n",
       "      <td>199</td>\n",
       "      <td>Male</td>\n",
       "      <td>32</td>\n",
       "      <td>137</td>\n",
       "      <td>18</td>\n",
       "    </tr>\n",
       "    <tr>\n",
       "      <th>199</th>\n",
       "      <td>200</td>\n",
       "      <td>Male</td>\n",
       "      <td>30</td>\n",
       "      <td>137</td>\n",
       "      <td>83</td>\n",
       "    </tr>\n",
       "  </tbody>\n",
       "</table>\n",
       "<p>200 rows × 5 columns</p>\n",
       "</div>"
      ],
      "text/plain": [
       "     CustomerID  Gender  Age  Annual Income (k$)  Spending Score (1-100)\n",
       "0             1    Male   19                  15                      39\n",
       "1             2    Male   21                  15                      81\n",
       "2             3  Female   20                  16                       6\n",
       "3             4  Female   23                  16                      77\n",
       "4             5  Female   31                  17                      40\n",
       "..          ...     ...  ...                 ...                     ...\n",
       "195         196  Female   35                 120                      79\n",
       "196         197  Female   45                 126                      28\n",
       "197         198    Male   32                 126                      74\n",
       "198         199    Male   32                 137                      18\n",
       "199         200    Male   30                 137                      83\n",
       "\n",
       "[200 rows x 5 columns]"
      ]
     },
     "execution_count": 14,
     "metadata": {},
     "output_type": "execute_result"
    }
   ],
   "source": [
    "df=pd.read_csv(r\"C:\\Users\\bablu\\Downloads\\Mall_Customers.csv\")\n",
    "df"
   ]
  },
  {
   "cell_type": "code",
   "execution_count": 15,
   "id": "12dd537b",
   "metadata": {},
   "outputs": [],
   "source": [
    "plt.style.use('fivethirtyeight')"
   ]
  },
  {
   "cell_type": "code",
   "execution_count": 16,
   "id": "41992ae9",
   "metadata": {},
   "outputs": [
    {
     "data": {
      "image/png": "[encoded data removed]",
      "text/plain": [
       "<Figure size 432x432 with 1 Axes>"
      ]
     },
     "metadata": {},
     "output_type": "display_data"
    }
   ],
   "source": [
    "age = df['Age'].tolist()\n",
    "spending_score = df['Spending Score (1-100)'].tolist()\n",
    "fig = plt.figure(figsize=(6,6))\n",
    "plt.scatter(age, spending_score)\n",
    "plt.suptitle(\"Scatter Plot of Age and Spending Score\")\n",
    "plt.xlabel(\"Age\")\n",
    "plt.ylabel(\"Spending Score\")\n",
    "plt.show()"
   ]
  },
  {
   "cell_type": "code",
   "execution_count": 17,
   "id": "da966801",
   "metadata": {},
   "outputs": [
    {
     "data": {
      "image/png": "[encoded data removed]",
      "text/plain": [
       "<Figure size 432x432 with 1 Axes>"
      ]
     },
     "metadata": {},
     "output_type": "display_data"
    }
   ],
   "source": [
    "age = df['Age'].tolist()\n",
    "annual_income = df['Annual Income (k$)'].tolist()\n",
    "fig = plt.figure(figsize=(6,6))\n",
    "plt.scatter(age, annual_income)\n",
    "plt.suptitle(\"Scatter Plot of Age and Annual Income\")\n",
    "plt.xlabel(\"Age\")\n",
    "plt.ylabel(\"Annual Income (k$)\")\n",
    "plt.show()"
   ]
  },
  {
   "cell_type": "code",
   "execution_count": 18,
   "id": "e5aa9237",
   "metadata": {},
   "outputs": [
    {
     "data": {
      "image/png": "[encoded data removed]",
      "text/plain": [
       "<Figure size 432x432 with 1 Axes>"
      ]
     },
     "metadata": {},
     "output_type": "display_data"
    }
   ],
   "source": [
    "annual_income = df['Annual Income (k$)'].tolist()\n",
    "spending_score = df['Spending Score (1-100)'].tolist()\n",
    "fig = plt.figure(figsize=(6,6))\n",
    "plt.scatter(annual_income, spending_score)\n",
    "plt.suptitle(\"Scatter Plot of Annual Income & Spending Score\")\n",
    "plt.xlabel(\"Annual Income (k$)\")\n",
    "plt.ylabel(\"Spending Score (1-100)\")\n",
    "plt.show()"
   ]
  },
  {
   "cell_type": "code",
   "execution_count": 19,
   "id": "09548b97",
   "metadata": {},
   "outputs": [
    {
     "data": {
      "text/plain": [
       "CustomerID                0\n",
       "Gender                    0\n",
       "Age                       0\n",
       "Annual Income (k$)        0\n",
       "Spending Score (1-100)    0\n",
       "dtype: int64"
      ]
     },
     "execution_count": 19,
     "metadata": {},
     "output_type": "execute_result"
    }
   ],
   "source": [
    "df.isnull().sum()"
   ]
  },
  {
   "cell_type": "code",
   "execution_count": 20,
   "id": "9e0d5d56",
   "metadata": {},
   "outputs": [
    {
     "data": {
      "text/plain": [
       "(200, 2)"
      ]
     },
     "execution_count": 20,
     "metadata": {},
     "output_type": "execute_result"
    }
   ],
   "source": [
    "features = df[['Annual Income (k$)', 'Spending Score (1-100)']]\n",
    "\n",
    "# Transform features to list\n",
    "data = features.values\n",
    "data.shape"
   ]
  },
  {
   "cell_type": "code",
   "execution_count": 21,
   "id": "e7f74e91",
   "metadata": {},
   "outputs": [
    {
     "data": {
      "image/png": "[encoded data removed]",
      "text/plain": [
       "<Figure size 432x288 with 1 Axes>"
      ]
     },
     "metadata": {},
     "output_type": "display_data"
    }
   ],
   "source": [
    "# I use linear som topography\n",
    "som_shape = (1, 5)\n",
    "\n",
    "som = MiniSom(som_shape[0], som_shape[1], data.shape[1], sigma=0.5, learning_rate=0.5)\n",
    "\n",
    "max_iter = 1000\n",
    "q_error = []\n",
    "t_error = []\n",
    "\n",
    "for i in range(max_iter):\n",
    "    rand_i = np.random.randint(len(data))\n",
    "    som.update(data[rand_i], som.winner(data[rand_i]), i, max_iter)\n",
    "    q_error.append(som.quantization_error(data))\n",
    "    t_error.append(som.topographic_error(data))\n",
    "\n",
    "plt.plot(np.arange(max_iter), q_error, label='quantization error')\n",
    "plt.plot(np.arange(max_iter), t_error, label='topographic error')\n",
    "plt.ylabel('Quantization error')\n",
    "plt.xlabel('Iteration index')\n",
    "plt.legend()\n",
    "plt.show()\n"
   ]
  },
  {
   "cell_type": "code",
   "execution_count": 22,
   "id": "3cc3ebb2",
   "metadata": {},
   "outputs": [
    {
     "data": {
      "image/png": "[encoded data removed]",
      "text/plain": [
       "<Figure size 720x576 with 1 Axes>"
      ]
     },
     "metadata": {},
     "output_type": "display_data"
    }
   ],
   "source": [
    "# each neuron represents a cluster\n",
    "winner_coordinates = np.array([som.winner(x) for x in data]).T\n",
    "\n",
    "# with np.ravel_multi_index we convert the bidimensional\n",
    "# coordinates to a monodimensional index\n",
    "cluster_index = np.ravel_multi_index(winner_coordinates, som_shape)\n",
    "\n",
    "# Plotting the clusters \n",
    "plt.figure(figsize=(10,8))\n",
    "\n",
    "for c in np.unique(cluster_index):\n",
    "    plt.scatter(data[cluster_index == c, 0],\n",
    "                data[cluster_index == c, 1], label='cluster='+str(c), alpha=.7)\n",
    "\n",
    "# Plotting centroids\n",
    "for centroid in som.get_weights():\n",
    "    plt.scatter(centroid[:, 0], centroid[:, 1], marker='x', \n",
    "                s=10, linewidths=20, color='k') # label='centroid'\n",
    "    \n",
    "plt.title(\"Clusters of Customers\")\n",
    "plt.xlabel(\"Annual Income (k$)\")\n",
    "plt.ylabel(\"Spending Score (1-100)\")\n",
    "plt.legend();"
   ]
  },
  {
   "cell_type": "markdown",
   "id": "46382bcf",
   "metadata": {},
   "source": [
    "# 6\tWrite a Program for Implementing Adaptive Resonance Theory Algorithm"
   ]
  },
  {
   "cell_type": "code",
   "execution_count": 23,
   "id": "e078f8e4",
   "metadata": {},
   "outputs": [
    {
     "name": "stdout",
     "output_type": "stream",
     "text": [
      "-------\n",
      "Train vector: [1. 0. 0. 0. 0. 0.]\n",
      "  [1. 1. 1. 1. 1. 1.]\n",
      "    Bottom Ups Weights: [0.14285714 0.14285714 0.14285714 0.14285714 0.14285714 0.14285714]\n",
      "    Similartiy: 1.0\n",
      "-------\n",
      "Train vector: [1. 1. 1. 1. 1. 0.]\n",
      "  [1. 0. 0. 0. 0. 0.]\n",
      "    Bottom Ups Weights: [0.66666667 0.         0.         0.         0.         0.        ]\n",
      "    Similartiy: 0.2\n",
      "  Creating a new new neuron\n",
      "    Weights bottomUps: [[0.18181818 0.18181818 0.18181818 0.18181818 0.18181818 0.        ]]\n",
      "    Weights topDowns: [[1. 1. 1. 1. 1. 0.]]\n",
      "-------\n",
      "Train vector: [1. 0. 1. 0. 1. 0.]\n",
      "  [1. 0. 0. 0. 0. 0.]\n",
      "    Bottom Ups Weights: [0.66666667 0.         0.         0.         0.         0.        ]\n",
      "    Similartiy: 0.3333333333333333\n",
      "  [1. 1. 1. 1. 1. 0.]\n",
      "    Bottom Ups Weights: [0.18181818 0.18181818 0.18181818 0.18181818 0.18181818 0.        ]\n",
      "    Similartiy: 1.0\n",
      "-------\n",
      "Train vector: [0. 1. 0. 0. 1. 1.]\n",
      "  [1. 0. 1. 0. 1. 0.]\n",
      "    Bottom Ups Weights: [0.28571429 0.         0.28571429 0.         0.28571429 0.        ]\n",
      "    Similartiy: 0.3333333333333333\n",
      "  [1. 0. 0. 0. 0. 0.]\n",
      "    Bottom Ups Weights: [0.66666667 0.         0.         0.         0.         0.        ]\n",
      "    Similartiy: 0.0\n",
      "  Creating a new new neuron\n",
      "    Weights bottomUps: [[0.         0.28571429 0.         0.         0.28571429 0.28571429]]\n",
      "    Weights topDowns: [[0. 1. 0. 0. 1. 1.]]\n",
      "-------\n",
      "Train vector: [1. 1. 1. 0. 0. 0.]\n",
      "  [1. 0. 0. 0. 0. 0.]\n",
      "    Bottom Ups Weights: [0.66666667 0.         0.         0.         0.         0.        ]\n",
      "    Similartiy: 0.3333333333333333\n",
      "  [1. 0. 1. 0. 1. 0.]\n",
      "    Bottom Ups Weights: [0.28571429 0.         0.28571429 0.         0.28571429 0.        ]\n",
      "    Similartiy: 0.6666666666666666\n",
      "-------\n",
      "Train vector: [0. 0. 1. 1. 1. 0.]\n",
      "  [1. 0. 1. 0. 0. 0.]\n",
      "    Bottom Ups Weights: [0.4 0.  0.4 0.  0.  0. ]\n",
      "    Similartiy: 0.3333333333333333\n",
      "  [0. 1. 0. 0. 1. 1.]\n",
      "    Bottom Ups Weights: [0.         0.28571429 0.         0.         0.28571429 0.28571429]\n",
      "    Similartiy: 0.3333333333333333\n",
      "  [1. 0. 0. 0. 0. 0.]\n",
      "    Bottom Ups Weights: [0.66666667 0.         0.         0.         0.         0.        ]\n",
      "    Similartiy: 0.0\n",
      "  Creating a new new neuron\n",
      "    Weights bottomUps: [[0.         0.         0.28571429 0.28571429 0.28571429 0.        ]]\n",
      "    Weights topDowns: [[0. 0. 1. 1. 1. 0.]]\n",
      "-------\n",
      "Train vector: [1. 1. 1. 1. 1. 0.]\n",
      "  [0. 0. 1. 1. 1. 0.]\n",
      "    Bottom Ups Weights: [0.         0.         0.28571429 0.28571429 0.28571429 0.        ]\n",
      "    Similartiy: 0.6\n",
      "-------\n",
      "Train vector: [1. 1. 1. 1. 1. 1.]\n",
      "  [0. 1. 0. 0. 1. 1.]\n",
      "    Bottom Ups Weights: [0.         0.28571429 0.         0.         0.28571429 0.28571429]\n",
      "    Similartiy: 0.5\n",
      "  [0. 0. 1. 1. 1. 0.]\n",
      "    Bottom Ups Weights: [0.         0.         0.28571429 0.28571429 0.28571429 0.        ]\n",
      "    Similartiy: 0.5\n",
      "  [1. 0. 1. 0. 0. 0.]\n",
      "    Bottom Ups Weights: [0.4 0.  0.4 0.  0.  0. ]\n",
      "    Similartiy: 0.3333333333333333\n",
      "  [1. 0. 0. 0. 0. 0.]\n",
      "    Bottom Ups Weights: [0.66666667 0.         0.         0.         0.         0.        ]\n",
      "    Similartiy: 0.16666666666666666\n",
      "  Creating a new new neuron\n",
      "    Weights bottomUps: [[0.15384615 0.15384615 0.15384615 0.15384615 0.15384615 0.15384615]]\n",
      "    Weights topDowns: [[1. 1. 1. 1. 1. 1.]]\n",
      "=====\n",
      "Total Classes: 5\n",
      "Center of masses\n",
      "[[1. 0. 0. 0. 0. 0.]\n",
      " [1. 0. 1. 0. 0. 0.]\n",
      " [0. 1. 0. 0. 1. 1.]\n",
      " [0. 0. 1. 1. 1. 0.]\n",
      " [1. 1. 1. 1. 1. 1.]]\n",
      "Class 4 for train vector [1. 1. 1. 1. 1. 1.]\n",
      "Class 3 for train vector [1. 1. 1. 1. 1. 0.]\n",
      "Class 1 for train vector [1. 1. 1. 1. 0. 0.]\n",
      "Class 1 for train vector [1. 1. 1. 0. 0. 0.]\n",
      "Class 0 for train vector [1. 1. 0. 0. 0. 0.]\n",
      "Class 0 for train vector [1. 0. 0. 0. 0. 0.]\n",
      "Class 0 for train vector [0. 0. 0. 0. 0. 0.]\n"
     ]
    },
    {
     "name": "stderr",
     "output_type": "stream",
     "text": [
      "C:\\Users\\bablu\\AppData\\Local\\Temp\\ipykernel_17492\\4071264396.py:11: DeprecationWarning: `np.float` is a deprecated alias for the builtin `float`. To silence this warning, use `float` by itself. Doing this will not modify any behavior and is safe. If you specifically wanted the numpy scalar type, use `np.float64` here.\n",
      "Deprecated in NumPy 1.20; for more details and guidance: https://numpy.org/devdocs/release/1.20.0-notes.html#deprecations\n",
      "  [1,1,1,1,1,1]], np.float)\n",
      "C:\\Users\\bablu\\AppData\\Local\\Temp\\ipykernel_17492\\4071264396.py:19: DeprecationWarning: `np.float` is a deprecated alias for the builtin `float`. To silence this warning, use `float` by itself. Doing this will not modify any behavior and is safe. If you specifically wanted the numpy scalar type, use `np.float64` here.\n",
      "Deprecated in NumPy 1.20; for more details and guidance: https://numpy.org/devdocs/release/1.20.0-notes.html#deprecations\n",
      "  [0,0,0,0,0,0]], np.float)\n",
      "C:\\Users\\bablu\\AppData\\Local\\Temp\\ipykernel_17492\\4071264396.py:24: DeprecationWarning: `np.float` is a deprecated alias for the builtin `float`. To silence this warning, use `float` by itself. Doing this will not modify any behavior and is safe. If you specifically wanted the numpy scalar type, use `np.float64` here.\n",
      "Deprecated in NumPy 1.20; for more details and guidance: https://numpy.org/devdocs/release/1.20.0-notes.html#deprecations\n",
      "  bottomUps = np.array([[1/(L1_neurons_cnt + 1) for _ in range(L1_neurons_cnt)]], np.float)\n",
      "C:\\Users\\bablu\\AppData\\Local\\Temp\\ipykernel_17492\\4071264396.py:25: DeprecationWarning: `np.float` is a deprecated alias for the builtin `float`. To silence this warning, use `float` by itself. Doing this will not modify any behavior and is safe. If you specifically wanted the numpy scalar type, use `np.float64` here.\n",
      "Deprecated in NumPy 1.20; for more details and guidance: https://numpy.org/devdocs/release/1.20.0-notes.html#deprecations\n",
      "  topDowns = np.array([[1 for _ in range(L1_neurons_cnt)]], np.float)\n",
      "C:\\Users\\bablu\\AppData\\Local\\Temp\\ipykernel_17492\\4071264396.py:64: DeprecationWarning: `np.float` is a deprecated alias for the builtin `float`. To silence this warning, use `float` by itself. Doing this will not modify any behavior and is safe. If you specifically wanted the numpy scalar type, use `np.float64` here.\n",
      "Deprecated in NumPy 1.20; for more details and guidance: https://numpy.org/devdocs/release/1.20.0-notes.html#deprecations\n",
      "  new_bottom_weights = np.array([[i/(LEARNING_COEF + sum(tv)) for i in tv]], np.float)\n",
      "C:\\Users\\bablu\\AppData\\Local\\Temp\\ipykernel_17492\\4071264396.py:65: DeprecationWarning: `np.float` is a deprecated alias for the builtin `float`. To silence this warning, use `float` by itself. Doing this will not modify any behavior and is safe. If you specifically wanted the numpy scalar type, use `np.float64` here.\n",
      "Deprecated in NumPy 1.20; for more details and guidance: https://numpy.org/devdocs/release/1.20.0-notes.html#deprecations\n",
      "  new_top_weights = np.array([[i for i in tv]], np.float)\n"
     ]
    }
   ],
   "source": [
    "import numpy as np \n",
    "VIGILANCE = 0.6  # trashhold  0 - 1.0\n",
    "LEARNING_COEF = 0.5  # standard \n",
    "train = np.array([[1,0,0,0,0,0],\n",
    "                  [1,1,1,1,1,0],\n",
    "                  [1,0,1,0,1,0],\n",
    "                  [0,1,0,0,1,1],\n",
    "                  [1,1,1,0,0,0],\n",
    "                  [0,0,1,1,1,0],\n",
    "                  [1,1,1,1,1,0],\n",
    "                  [1,1,1,1,1,1]], np.float)\n",
    "\n",
    "test = np.array([[1,1,1,1,1,1],\n",
    "                 [1,1,1,1,1,0],\n",
    "                 [1,1,1,1,0,0],\n",
    "                 [1,1,1,0,0,0],\n",
    "                 [1,1,0,0,0,0],\n",
    "                 [1,0,0,0,0,0],\n",
    "                 [0,0,0,0,0,0]], np.float)\n",
    "\n",
    "L1_neurons_cnt = len(train[0])\n",
    "L2_neurons_cnt = 1\n",
    "# Init weights from the first neuron \n",
    "bottomUps = np.array([[1/(L1_neurons_cnt + 1) for _ in range(L1_neurons_cnt)]], np.float)\n",
    "topDowns = np.array([[1 for _ in range(L1_neurons_cnt)]], np.float)\n",
    "\n",
    "for tv in train: \n",
    "    print(\"-------\")\n",
    "    print('Train vector:', tv)\n",
    "    createNewNeuron = True\n",
    "    outputs = [bottomUps[i].dot(tv) for i in range(L2_neurons_cnt)]\n",
    "    counter = L2_neurons_cnt\n",
    "    while counter > 0:\n",
    "        winning_output = max(outputs)\n",
    "        winner_neuron_idx = outputs.index(winning_output)\n",
    "        # NOTE!!! Sometimes there can be more than one winning neurons\n",
    "        # Then we should select them randomly. For sake of simplicity,\n",
    "        # this was not implemented for sake of simplicity \n",
    "        \n",
    "        # Because `sum(tv)` can be 0 and we can not divide by zero :(\n",
    "        tv_sum = sum(tv)\n",
    "        if tv_sum == 0:\n",
    "            similarity = 0 \n",
    "        else:\n",
    "            similarity = topDowns[winner_neuron_idx].dot(tv)/(sum(tv))\n",
    "        print(\" \", topDowns[winner_neuron_idx])\n",
    "        print(\"    Bottom Ups Weights:\", bottomUps[winner_neuron_idx])\n",
    "        print(\"    Similartiy:\", similarity)\n",
    "        if similarity >= VIGILANCE:\n",
    "            # Found similar neuron -> update their weights \n",
    "            createNewNeuron = False\n",
    "            new_bottom_weights = tv * topDowns[winner_neuron_idx]/(LEARNING_COEF+tv.dot(topDowns[winner_neuron_idx]))\n",
    "            new_top_weights = tv * topDowns[winner_neuron_idx]\n",
    "            topDowns[winner_neuron_idx] = new_top_weights\n",
    "            bottomUps[winner_neuron_idx] = new_bottom_weights\n",
    "            break\n",
    "        else:\n",
    "            # Didn't find similar neuron\n",
    "            outputs[winner_neuron_idx] = -1  # So it won't be selected in the next iteration\n",
    "            counter -= 1\n",
    "            \n",
    "    if createNewNeuron:\n",
    "        print(\"  Creating a new new neuron\")\n",
    "        new_bottom_weights = np.array([[i/(LEARNING_COEF + sum(tv)) for i in tv]], np.float)\n",
    "        new_top_weights = np.array([[i for i in tv]], np.float)\n",
    "        print(\"    Weights bottomUps:\", new_bottom_weights)\n",
    "        print(\"    Weights topDowns:\", new_top_weights)\n",
    "        bottomUps = np.append(bottomUps, new_bottom_weights, axis=0)\n",
    "        topDowns = np.append(topDowns, new_top_weights, axis=0)\n",
    "        L2_neurons_cnt += 1\n",
    "    \n",
    "print(\"=====\")\n",
    "print(f\"Total Classes: {L2_neurons_cnt}\")\n",
    "print(\"Center of masses\")\n",
    "print(topDowns)\n",
    "for tv in test:\n",
    "    A = list(range(L2_neurons_cnt))\n",
    "    createNewNeuron = True\n",
    "    outputs = [bottomUps[i].dot(tv) for i in A]\n",
    "    winning_weight = max(outputs)\n",
    "    winner_neuron_idx = outputs.index(winning_weight)\n",
    "    print(f\"Class {winner_neuron_idx} for train vector {tv}\")"
   ]
  },
  {
   "cell_type": "markdown",
   "id": "9d7c37dc",
   "metadata": {},
   "source": [
    "# 7 Write a Program for Implementing Learning Vector Quantization Algorithm"
   ]
  },
  {
   "cell_type": "code",
   "execution_count": 24,
   "id": "28587348",
   "metadata": {},
   "outputs": [],
   "source": [
    "import numpy as np\n",
    "import pandas as pd\n",
    "\n",
    "from random import seed\n",
    "from random import randrange\n",
    "from math import sqrt\n",
    "\n",
    "from sklearn.preprocessing import StandardScaler\n",
    "from sklearn.metrics import accuracy_score"
   ]
  },
  {
   "cell_type": "code",
   "execution_count": 25,
   "id": "dc768f7d",
   "metadata": {},
   "outputs": [
    {
     "data": {
      "text/html": [
       "<div>\n",
       "<style scoped>\n",
       "    .dataframe tbody tr th:only-of-type {\n",
       "        vertical-align: middle;\n",
       "    }\n",
       "\n",
       "    .dataframe tbody tr th {\n",
       "        vertical-align: top;\n",
       "    }\n",
       "\n",
       "    .dataframe thead th {\n",
       "        text-align: right;\n",
       "    }\n",
       "</style>\n",
       "<table border=\"1\" class=\"dataframe\">\n",
       "  <thead>\n",
       "    <tr style=\"text-align: right;\">\n",
       "      <th></th>\n",
       "      <th>RI</th>\n",
       "      <th>Na</th>\n",
       "      <th>Mg</th>\n",
       "      <th>Al</th>\n",
       "      <th>Si</th>\n",
       "      <th>K</th>\n",
       "      <th>Ca</th>\n",
       "      <th>Ba</th>\n",
       "      <th>Fe</th>\n",
       "      <th>Type</th>\n",
       "    </tr>\n",
       "  </thead>\n",
       "  <tbody>\n",
       "    <tr>\n",
       "      <th>0</th>\n",
       "      <td>1.52101</td>\n",
       "      <td>13.64</td>\n",
       "      <td>4.49</td>\n",
       "      <td>1.10</td>\n",
       "      <td>71.78</td>\n",
       "      <td>0.06</td>\n",
       "      <td>8.75</td>\n",
       "      <td>0.0</td>\n",
       "      <td>0.0</td>\n",
       "      <td>1</td>\n",
       "    </tr>\n",
       "    <tr>\n",
       "      <th>1</th>\n",
       "      <td>1.51761</td>\n",
       "      <td>13.89</td>\n",
       "      <td>3.60</td>\n",
       "      <td>1.36</td>\n",
       "      <td>72.73</td>\n",
       "      <td>0.48</td>\n",
       "      <td>7.83</td>\n",
       "      <td>0.0</td>\n",
       "      <td>0.0</td>\n",
       "      <td>1</td>\n",
       "    </tr>\n",
       "    <tr>\n",
       "      <th>2</th>\n",
       "      <td>1.51618</td>\n",
       "      <td>13.53</td>\n",
       "      <td>3.55</td>\n",
       "      <td>1.54</td>\n",
       "      <td>72.99</td>\n",
       "      <td>0.39</td>\n",
       "      <td>7.78</td>\n",
       "      <td>0.0</td>\n",
       "      <td>0.0</td>\n",
       "      <td>1</td>\n",
       "    </tr>\n",
       "    <tr>\n",
       "      <th>3</th>\n",
       "      <td>1.51766</td>\n",
       "      <td>13.21</td>\n",
       "      <td>3.69</td>\n",
       "      <td>1.29</td>\n",
       "      <td>72.61</td>\n",
       "      <td>0.57</td>\n",
       "      <td>8.22</td>\n",
       "      <td>0.0</td>\n",
       "      <td>0.0</td>\n",
       "      <td>1</td>\n",
       "    </tr>\n",
       "    <tr>\n",
       "      <th>4</th>\n",
       "      <td>1.51742</td>\n",
       "      <td>13.27</td>\n",
       "      <td>3.62</td>\n",
       "      <td>1.24</td>\n",
       "      <td>73.08</td>\n",
       "      <td>0.55</td>\n",
       "      <td>8.07</td>\n",
       "      <td>0.0</td>\n",
       "      <td>0.0</td>\n",
       "      <td>1</td>\n",
       "    </tr>\n",
       "  </tbody>\n",
       "</table>\n",
       "</div>"
      ],
      "text/plain": [
       "        RI     Na    Mg    Al     Si     K    Ca   Ba   Fe  Type\n",
       "0  1.52101  13.64  4.49  1.10  71.78  0.06  8.75  0.0  0.0     1\n",
       "1  1.51761  13.89  3.60  1.36  72.73  0.48  7.83  0.0  0.0     1\n",
       "2  1.51618  13.53  3.55  1.54  72.99  0.39  7.78  0.0  0.0     1\n",
       "3  1.51766  13.21  3.69  1.29  72.61  0.57  8.22  0.0  0.0     1\n",
       "4  1.51742  13.27  3.62  1.24  73.08  0.55  8.07  0.0  0.0     1"
      ]
     },
     "execution_count": 25,
     "metadata": {},
     "output_type": "execute_result"
    }
   ],
   "source": [
    "df=pd.read_csv(r\"C:\\Users\\bablu\\Downloads\\glass.csv\")\n",
    "df.head()"
   ]
  },
  {
   "cell_type": "code",
   "execution_count": 26,
   "id": "dc0f57a2",
   "metadata": {},
   "outputs": [],
   "source": [
    "features = df.drop('Type', axis=1)\n",
    "labels = df['Type'].values\n",
    "labels = labels.reshape(len(labels), 1)"
   ]
  },
  {
   "cell_type": "code",
   "execution_count": 27,
   "id": "2c181eb7",
   "metadata": {},
   "outputs": [
    {
     "data": {
      "text/html": [
       "<div>\n",
       "<style scoped>\n",
       "    .dataframe tbody tr th:only-of-type {\n",
       "        vertical-align: middle;\n",
       "    }\n",
       "\n",
       "    .dataframe tbody tr th {\n",
       "        vertical-align: top;\n",
       "    }\n",
       "\n",
       "    .dataframe thead th {\n",
       "        text-align: right;\n",
       "    }\n",
       "</style>\n",
       "<table border=\"1\" class=\"dataframe\">\n",
       "  <thead>\n",
       "    <tr style=\"text-align: right;\">\n",
       "      <th></th>\n",
       "      <th>count</th>\n",
       "      <th>mean</th>\n",
       "      <th>std</th>\n",
       "      <th>min</th>\n",
       "      <th>25%</th>\n",
       "      <th>50%</th>\n",
       "      <th>75%</th>\n",
       "      <th>max</th>\n",
       "    </tr>\n",
       "  </thead>\n",
       "  <tbody>\n",
       "    <tr>\n",
       "      <th>RI</th>\n",
       "      <td>214.0</td>\n",
       "      <td>1.518365</td>\n",
       "      <td>0.003037</td>\n",
       "      <td>1.51115</td>\n",
       "      <td>1.516522</td>\n",
       "      <td>1.51768</td>\n",
       "      <td>1.519157</td>\n",
       "      <td>1.53393</td>\n",
       "    </tr>\n",
       "    <tr>\n",
       "      <th>Na</th>\n",
       "      <td>214.0</td>\n",
       "      <td>13.407850</td>\n",
       "      <td>0.816604</td>\n",
       "      <td>10.73000</td>\n",
       "      <td>12.907500</td>\n",
       "      <td>13.30000</td>\n",
       "      <td>13.825000</td>\n",
       "      <td>17.38000</td>\n",
       "    </tr>\n",
       "    <tr>\n",
       "      <th>Mg</th>\n",
       "      <td>214.0</td>\n",
       "      <td>2.684533</td>\n",
       "      <td>1.442408</td>\n",
       "      <td>0.00000</td>\n",
       "      <td>2.115000</td>\n",
       "      <td>3.48000</td>\n",
       "      <td>3.600000</td>\n",
       "      <td>4.49000</td>\n",
       "    </tr>\n",
       "    <tr>\n",
       "      <th>Al</th>\n",
       "      <td>214.0</td>\n",
       "      <td>1.444907</td>\n",
       "      <td>0.499270</td>\n",
       "      <td>0.29000</td>\n",
       "      <td>1.190000</td>\n",
       "      <td>1.36000</td>\n",
       "      <td>1.630000</td>\n",
       "      <td>3.50000</td>\n",
       "    </tr>\n",
       "    <tr>\n",
       "      <th>Si</th>\n",
       "      <td>214.0</td>\n",
       "      <td>72.650935</td>\n",
       "      <td>0.774546</td>\n",
       "      <td>69.81000</td>\n",
       "      <td>72.280000</td>\n",
       "      <td>72.79000</td>\n",
       "      <td>73.087500</td>\n",
       "      <td>75.41000</td>\n",
       "    </tr>\n",
       "    <tr>\n",
       "      <th>K</th>\n",
       "      <td>214.0</td>\n",
       "      <td>0.497056</td>\n",
       "      <td>0.652192</td>\n",
       "      <td>0.00000</td>\n",
       "      <td>0.122500</td>\n",
       "      <td>0.55500</td>\n",
       "      <td>0.610000</td>\n",
       "      <td>6.21000</td>\n",
       "    </tr>\n",
       "    <tr>\n",
       "      <th>Ca</th>\n",
       "      <td>214.0</td>\n",
       "      <td>8.956963</td>\n",
       "      <td>1.423153</td>\n",
       "      <td>5.43000</td>\n",
       "      <td>8.240000</td>\n",
       "      <td>8.60000</td>\n",
       "      <td>9.172500</td>\n",
       "      <td>16.19000</td>\n",
       "    </tr>\n",
       "    <tr>\n",
       "      <th>Ba</th>\n",
       "      <td>214.0</td>\n",
       "      <td>0.175047</td>\n",
       "      <td>0.497219</td>\n",
       "      <td>0.00000</td>\n",
       "      <td>0.000000</td>\n",
       "      <td>0.00000</td>\n",
       "      <td>0.000000</td>\n",
       "      <td>3.15000</td>\n",
       "    </tr>\n",
       "    <tr>\n",
       "      <th>Fe</th>\n",
       "      <td>214.0</td>\n",
       "      <td>0.057009</td>\n",
       "      <td>0.097439</td>\n",
       "      <td>0.00000</td>\n",
       "      <td>0.000000</td>\n",
       "      <td>0.00000</td>\n",
       "      <td>0.100000</td>\n",
       "      <td>0.51000</td>\n",
       "    </tr>\n",
       "  </tbody>\n",
       "</table>\n",
       "</div>"
      ],
      "text/plain": [
       "    count       mean       std       min        25%       50%        75%  \\\n",
       "RI  214.0   1.518365  0.003037   1.51115   1.516522   1.51768   1.519157   \n",
       "Na  214.0  13.407850  0.816604  10.73000  12.907500  13.30000  13.825000   \n",
       "Mg  214.0   2.684533  1.442408   0.00000   2.115000   3.48000   3.600000   \n",
       "Al  214.0   1.444907  0.499270   0.29000   1.190000   1.36000   1.630000   \n",
       "Si  214.0  72.650935  0.774546  69.81000  72.280000  72.79000  73.087500   \n",
       "K   214.0   0.497056  0.652192   0.00000   0.122500   0.55500   0.610000   \n",
       "Ca  214.0   8.956963  1.423153   5.43000   8.240000   8.60000   9.172500   \n",
       "Ba  214.0   0.175047  0.497219   0.00000   0.000000   0.00000   0.000000   \n",
       "Fe  214.0   0.057009  0.097439   0.00000   0.000000   0.00000   0.100000   \n",
       "\n",
       "         max  \n",
       "RI   1.53393  \n",
       "Na  17.38000  \n",
       "Mg   4.49000  \n",
       "Al   3.50000  \n",
       "Si  75.41000  \n",
       "K    6.21000  \n",
       "Ca  16.19000  \n",
       "Ba   3.15000  \n",
       "Fe   0.51000  "
      ]
     },
     "execution_count": 27,
     "metadata": {},
     "output_type": "execute_result"
    }
   ],
   "source": [
    "features.describe().T"
   ]
  },
  {
   "cell_type": "code",
   "execution_count": 28,
   "id": "66d8de47",
   "metadata": {},
   "outputs": [],
   "source": [
    "scaler = StandardScaler()\n",
    "features = scaler.fit_transform(features)"
   ]
  },
  {
   "cell_type": "code",
   "execution_count": 29,
   "id": "641e3c78",
   "metadata": {},
   "outputs": [],
   "source": [
    "dataset = np.append(features, labels, axis=1).tolist()"
   ]
  },
  {
   "cell_type": "code",
   "execution_count": 30,
   "id": "f9a852d5",
   "metadata": {},
   "outputs": [],
   "source": [
    "def kfold(dataset, n_folds):\n",
    "    dataset_split = list()\n",
    "    dataset_copy = list(dataset)\n",
    "    fold_size = int(len(dataset) / n_folds)\n",
    "    \n",
    "    for i in range(n_folds):\n",
    "        fold = list()\n",
    "        while len(fold) < fold_size:\n",
    "            index = randrange(len(dataset_copy))\n",
    "            fold.append(dataset_copy.pop(index))\n",
    "        dataset_split.append(fold)\n",
    "        \n",
    "    return dataset_split"
   ]
  },
  {
   "cell_type": "code",
   "execution_count": 31,
   "id": "6b8700aa",
   "metadata": {},
   "outputs": [],
   "source": [
    "n_folds = 5\n",
    "\n",
    "folds = kfold(dataset, n_folds)"
   ]
  },
  {
   "cell_type": "code",
   "execution_count": 32,
   "id": "86a5b569",
   "metadata": {},
   "outputs": [],
   "source": [
    "def euclidean_distance(row1, row2):\n",
    "    distance = 0.0\n",
    "    for i in range(len(row1)-1):\n",
    "        distance += (row1[i] - row2[i])**2\n",
    "    return sqrt(distance)"
   ]
  },
  {
   "cell_type": "code",
   "execution_count": 33,
   "id": "0fd13cb4",
   "metadata": {},
   "outputs": [],
   "source": [
    "def random_subset(train):\n",
    "    n_records = len(train)\n",
    "    n_features = len(train[0])\n",
    "    subsets = [train[randrange(n_records)][i] for i in range(n_features)]\n",
    "    return subsets"
   ]
  },
  {
   "cell_type": "code",
   "execution_count": 34,
   "id": "cdf978ea",
   "metadata": {},
   "outputs": [],
   "source": [
    "def best_match(subsets, test_row):\n",
    "    distances = list()\n",
    "    \n",
    "    for subset in subsets:\n",
    "        dist = euclidean_distance(subset, test_row)\n",
    "        distances.append((subset, dist))\n",
    "        \n",
    "    distances.sort(key=lambda tup: tup[1])\n",
    "    return distances[0][0]"
   ]
  },
  {
   "cell_type": "code",
   "execution_count": 35,
   "id": "cf6238fa",
   "metadata": {},
   "outputs": [],
   "source": [
    "def lvq(train_set, n_subsets, lrate, epochs):\n",
    "    subsets = [random_subset(train_set) for i in range(n_subsets)]\n",
    "\n",
    "    for epoch in range(epochs):\n",
    "        rate = lrate * (1.0-(epoch/float(epochs)))\n",
    "        \n",
    "        for row in train_set:\n",
    "            bmu = best_match(subsets, row)\n",
    "            \n",
    "            for i in range(len(row)-1):\n",
    "                error = row[i] - bmu[i]\n",
    "                if bmu[-1] == row[-1]:\n",
    "                    bmu[i] += rate * error\n",
    "                else:\n",
    "                    bmu[i] -= rate * error\n",
    "                    \n",
    "    return subsets"
   ]
  },
  {
   "cell_type": "code",
   "execution_count": 36,
   "id": "7f80df0f",
   "metadata": {},
   "outputs": [],
   "source": [
    "def accuracy(actual, predicted):\n",
    "    correct = 0\n",
    "    for i in range(len(actual)):\n",
    "        if actual[i] == predicted[i]:\n",
    "            correct += 1\n",
    "    return correct / float(len(actual)) * 100.0"
   ]
  },
  {
   "cell_type": "code",
   "execution_count": 37,
   "id": "2d1c94af",
   "metadata": {},
   "outputs": [
    {
     "name": "stdout",
     "output_type": "stream",
     "text": [
      "Accuracy per fold: [57.14285714285714]\n",
      "Accuracy per fold: [57.14285714285714, 52.38095238095239]\n",
      "Accuracy per fold: [57.14285714285714, 52.38095238095239, 66.66666666666666]\n",
      "Accuracy per fold: [57.14285714285714, 52.38095238095239, 66.66666666666666, 59.523809523809526]\n",
      "Accuracy per fold: [57.14285714285714, 52.38095238095239, 66.66666666666666, 59.523809523809526, 57.14285714285714]\n",
      "Max Accuracy: 66.667\n"
     ]
    }
   ],
   "source": [
    "def train_test_split(folds, fold):\n",
    "    train_set = list(folds)\n",
    "    train_set.remove(fold)\n",
    "    train_set = sum(train_set, [])\n",
    "    test_set = list()\n",
    "    return train_set, test_set\n",
    "lrate = 0.1\n",
    "epochs = 500\n",
    "n_subsets = 50\n",
    "\n",
    "\n",
    "scores = list()\n",
    "\n",
    "for fold in folds:\n",
    "    train_set, test_set = train_test_split(folds, fold)\n",
    "\n",
    "    for row in fold:\n",
    "        test_set.append(list(row))\n",
    "\n",
    "    subsets = lvq(train_set, n_subsets, lrate, epochs)\n",
    "    y_hat = list()\n",
    "    \n",
    "    for test_row in test_set:\n",
    "        output = best_match(subsets, test_row)[-1]\n",
    "        y_hat.append(output)\n",
    "    \n",
    "    y = [row[-1] for row in fold]\n",
    "    scores.append(accuracy(y, y_hat))\n",
    "    \n",
    "    \n",
    "    \n",
    "    \n",
    "    print('Accuracy per fold: {:}'.format(scores))\n",
    "print('Max Accuracy: {:.3f}'.format(max(scores)))"
   ]
  },
  {
   "cell_type": "markdown",
   "id": "a5d49965",
   "metadata": {},
   "source": [
    "# 8\tWrite a Program for Implementing Convolutional Neural Networks"
   ]
  },
  {
   "cell_type": "code",
   "execution_count": 38,
   "id": "f511726f",
   "metadata": {},
   "outputs": [],
   "source": [
    "import tensorflow as tf\n",
    "from tensorflow.keras import datasets, layers, models\n",
    "import matplotlib.pyplot as plt\n",
    "import numpy as np"
   ]
  },
  {
   "cell_type": "code",
   "execution_count": 39,
   "id": "eeccd51e",
   "metadata": {},
   "outputs": [
    {
     "name": "stdout",
     "output_type": "stream",
     "text": [
      "Downloading data from https://www.cs.toronto.edu/~kriz/cifar-10-python.tar.gz\n",
      "170498071/170498071 [==============================] - 1179s 7us/step\n"
     ]
    },
    {
     "data": {
      "text/plain": [
       "(50000, 32, 32, 3)"
      ]
     },
     "execution_count": 39,
     "metadata": {},
     "output_type": "execute_result"
    }
   ],
   "source": [
    "(X_train, y_train), (X_test,y_test) = datasets.cifar10.load_data()\n",
    "X_train.shape"
   ]
  },
  {
   "cell_type": "code",
   "execution_count": 40,
   "id": "ea5d8e67",
   "metadata": {},
   "outputs": [
    {
     "data": {
      "text/plain": [
       "(10000, 32, 32, 3)"
      ]
     },
     "execution_count": 40,
     "metadata": {},
     "output_type": "execute_result"
    }
   ],
   "source": [
    "X_test.shape"
   ]
  },
  {
   "cell_type": "code",
   "execution_count": 41,
   "id": "85301340",
   "metadata": {},
   "outputs": [
    {
     "data": {
      "text/plain": [
       "(50000, 1)"
      ]
     },
     "execution_count": 41,
     "metadata": {},
     "output_type": "execute_result"
    }
   ],
   "source": [
    "y_train.shape"
   ]
  },
  {
   "cell_type": "code",
   "execution_count": 42,
   "id": "8a4d1858",
   "metadata": {},
   "outputs": [
    {
     "data": {
      "text/plain": [
       "array([[6],\n",
       "       [9],\n",
       "       [9],\n",
       "       [4],\n",
       "       [1]], dtype=uint8)"
      ]
     },
     "execution_count": 42,
     "metadata": {},
     "output_type": "execute_result"
    }
   ],
   "source": [
    "y_train[:5]"
   ]
  },
  {
   "cell_type": "code",
   "execution_count": 43,
   "id": "06da084c",
   "metadata": {},
   "outputs": [
    {
     "data": {
      "text/plain": [
       "array([6, 9, 9, 4, 1], dtype=uint8)"
      ]
     },
     "execution_count": 43,
     "metadata": {},
     "output_type": "execute_result"
    }
   ],
   "source": [
    "y_train = y_train.reshape(-1,)\n",
    "y_train[:5]"
   ]
  },
  {
   "cell_type": "code",
   "execution_count": 44,
   "id": "560d30c4",
   "metadata": {},
   "outputs": [],
   "source": [
    "y_test = y_test.reshape(-1,)"
   ]
  },
  {
   "cell_type": "code",
   "execution_count": 45,
   "id": "f9b506b9",
   "metadata": {},
   "outputs": [],
   "source": [
    "classes = [\"airplane\",\"automobile\",\"bird\",\"cat\",\"deer\",\"dog\",\"frog\",\"horse\",\"ship\",\"truck\"]"
   ]
  },
  {
   "cell_type": "code",
   "execution_count": 46,
   "id": "40ef0ab1",
   "metadata": {},
   "outputs": [],
   "source": [
    "def plot_sample(X, y, index):\n",
    "    plt.figure(figsize = (15,2))\n",
    "    plt.imshow(X[index])\n",
    "    plt.xlabel(classes[y[index]])\n"
   ]
  },
  {
   "cell_type": "code",
   "execution_count": 47,
   "id": "084c39ca",
   "metadata": {},
   "outputs": [
    {
     "data": {
      "image/png": "[encoded data removed]",
      "text/plain": [
       "<Figure size 1080x144 with 1 Axes>"
      ]
     },
     "metadata": {},
     "output_type": "display_data"
    }
   ],
   "source": [
    "plot_sample(X_train, y_train, 0)"
   ]
  },
  {
   "cell_type": "code",
   "execution_count": 48,
   "id": "818560d1",
   "metadata": {},
   "outputs": [
    {
     "data": {
      "image/png": "[encoded data removed]",
      "text/plain": [
       "<Figure size 1080x144 with 1 Axes>"
      ]
     },
     "metadata": {},
     "output_type": "display_data"
    }
   ],
   "source": [
    "plot_sample(X_train, y_train, 1)"
   ]
  },
  {
   "cell_type": "code",
   "execution_count": 49,
   "id": "6825d42c",
   "metadata": {},
   "outputs": [],
   "source": [
    "X_train = X_train / 255.0\n",
    "X_test = X_test / 255.0"
   ]
  },
  {
   "cell_type": "code",
   "execution_count": 50,
   "id": "6a688e1b",
   "metadata": {},
   "outputs": [],
   "source": [
    "cnn = models.Sequential([\n",
    "    layers.Conv2D(filters=32, kernel_size=(3, 3), activation='relu', input_shape=(32, 32, 3)),\n",
    "    layers.MaxPooling2D((2, 2)),\n",
    "    \n",
    "    layers.Conv2D(filters=64, kernel_size=(3, 3), activation='relu'),\n",
    "    layers.MaxPooling2D((2, 2)),\n",
    "    \n",
    "    layers.Flatten(),\n",
    "    layers.Dense(64, activation='relu'),\n",
    "    layers.Dense(10, activation='softmax')\n",
    "])"
   ]
  },
  {
   "cell_type": "code",
   "execution_count": 51,
   "id": "97a3c2cc",
   "metadata": {},
   "outputs": [],
   "source": [
    "cnn.compile(optimizer='adam',\n",
    "              loss='sparse_categorical_crossentropy',\n",
    "              metrics=['accuracy'])"
   ]
  },
  {
   "cell_type": "code",
   "execution_count": 52,
   "id": "1f9e6fdb",
   "metadata": {},
   "outputs": [
    {
     "name": "stdout",
     "output_type": "stream",
     "text": [
      "Epoch 1/10\n",
      "1563/1563 [==============================] - 55s 34ms/step - loss: 1.5102 - accuracy: 0.4557\n",
      "Epoch 2/10\n",
      "1563/1563 [==============================] - 55s 35ms/step - loss: 1.1258 - accuracy: 0.6052\n",
      "Epoch 3/10\n",
      "1563/1563 [==============================] - 52s 33ms/step - loss: 0.9899 - accuracy: 0.6575\n",
      "Epoch 4/10\n",
      "1563/1563 [==============================] - 53s 34ms/step - loss: 0.9097 - accuracy: 0.6832\n",
      "Epoch 5/10\n",
      "1563/1563 [==============================] - 53s 34ms/step - loss: 0.8470 - accuracy: 0.7071\n",
      "Epoch 6/10\n",
      "1563/1563 [==============================] - 52s 33ms/step - loss: 0.7966 - accuracy: 0.7237\n",
      "Epoch 7/10\n",
      "1563/1563 [==============================] - 53s 34ms/step - loss: 0.7453 - accuracy: 0.7408\n",
      "Epoch 8/10\n",
      "1563/1563 [==============================] - 53s 34ms/step - loss: 0.7016 - accuracy: 0.7569\n",
      "Epoch 9/10\n",
      "1563/1563 [==============================] - 53s 34ms/step - loss: 0.6647 - accuracy: 0.7677\n",
      "Epoch 10/10\n",
      "1563/1563 [==============================] - 53s 34ms/step - loss: 0.6312 - accuracy: 0.7778\n"
     ]
    },
    {
     "data": {
      "text/plain": [
       "<keras.callbacks.History at 0x27d321625b0>"
      ]
     },
     "execution_count": 52,
     "metadata": {},
     "output_type": "execute_result"
    }
   ],
   "source": [
    "cnn.fit(X_train, y_train, epochs=10)"
   ]
  },
  {
   "cell_type": "code",
   "execution_count": 53,
   "id": "56a15550",
   "metadata": {},
   "outputs": [
    {
     "name": "stdout",
     "output_type": "stream",
     "text": [
      "313/313 [==============================] - 5s 15ms/step - loss: 0.9270 - accuracy: 0.6963\n"
     ]
    },
    {
     "data": {
      "text/plain": [
       "[0.9270166158676147, 0.6963000297546387]"
      ]
     },
     "execution_count": 53,
     "metadata": {},
     "output_type": "execute_result"
    }
   ],
   "source": [
    "cnn.evaluate(X_test,y_test)"
   ]
  },
  {
   "cell_type": "code",
   "execution_count": 54,
   "id": "d79b448a",
   "metadata": {},
   "outputs": [
    {
     "name": "stdout",
     "output_type": "stream",
     "text": [
      "313/313 [==============================] - 5s 14ms/step\n"
     ]
    },
    {
     "data": {
      "text/plain": [
       "array([[3.2845795e-02, 1.3611029e-03, 7.3878975e-03, 5.3853488e-01,\n",
       "        4.8594837e-04, 4.5381792e-02, 2.1316186e-02, 1.2949351e-05,\n",
       "        3.3896053e-01, 1.3712922e-02],\n",
       "       [4.3500671e-03, 2.5781924e-02, 1.2587486e-05, 7.0513266e-07,\n",
       "        3.2357701e-07, 7.7724053e-08, 3.0321334e-07, 5.3793457e-07,\n",
       "        9.6978509e-01, 6.8473368e-05],\n",
       "       [4.7416698e-02, 1.5590483e-01, 2.5172085e-03, 2.5801593e-03,\n",
       "        9.8852592e-04, 3.5350898e-04, 2.7550504e-04, 8.1987400e-04,\n",
       "        7.8757501e-01, 1.5686536e-03],\n",
       "       [9.4387269e-01, 1.6217722e-02, 3.0978201e-02, 1.6071930e-04,\n",
       "        1.4826567e-03, 4.1555613e-05, 6.1880786e-04, 4.7137830e-05,\n",
       "        6.5590204e-03, 2.1455762e-05],\n",
       "       [5.5984150e-05, 4.9552640e-05, 1.2845236e-02, 2.0955997e-02,\n",
       "        6.1052543e-01, 1.7196035e-02, 3.3831000e-01, 3.7598995e-05,\n",
       "        1.7476004e-05, 6.6995658e-06]], dtype=float32)"
      ]
     },
     "execution_count": 54,
     "metadata": {},
     "output_type": "execute_result"
    }
   ],
   "source": [
    "y_pred = cnn.predict(X_test)\n",
    "y_pred[:5]"
   ]
  },
  {
   "cell_type": "code",
   "execution_count": 55,
   "id": "c1aa1ec9",
   "metadata": {},
   "outputs": [
    {
     "data": {
      "text/plain": [
       "[3, 8, 8, 0, 4]"
      ]
     },
     "execution_count": 55,
     "metadata": {},
     "output_type": "execute_result"
    }
   ],
   "source": [
    "y_classes = [np.argmax(element) for element in y_pred]\n",
    "y_classes[:5]"
   ]
  },
  {
   "cell_type": "code",
   "execution_count": 56,
   "id": "a79358ff",
   "metadata": {},
   "outputs": [
    {
     "data": {
      "text/plain": [
       "array([3, 8, 8, 0, 6], dtype=uint8)"
      ]
     },
     "execution_count": 56,
     "metadata": {},
     "output_type": "execute_result"
    }
   ],
   "source": [
    "y_test[:5]"
   ]
  },
  {
   "cell_type": "code",
   "execution_count": 57,
   "id": "0109b0a4",
   "metadata": {},
   "outputs": [
    {
     "data": {
      "image/png": "[encoded data removed]",
      "text/plain": [
       "<Figure size 1080x144 with 1 Axes>"
      ]
     },
     "metadata": {},
     "output_type": "display_data"
    }
   ],
   "source": [
    "plot_sample(X_test, y_test,3)"
   ]
  },
  {
   "cell_type": "code",
   "execution_count": 58,
   "id": "69a65726",
   "metadata": {},
   "outputs": [
    {
     "data": {
      "text/plain": [
       "'airplane'"
      ]
     },
     "execution_count": 58,
     "metadata": {},
     "output_type": "execute_result"
    }
   ],
   "source": [
    "classes[y_classes[3]]\n"
   ]
  },
  {
   "cell_type": "code",
   "execution_count": 59,
   "id": "998d30a3",
   "metadata": {},
   "outputs": [
    {
     "data": {
      "text/plain": [
       "'airplane'"
      ]
     },
     "execution_count": 59,
     "metadata": {},
     "output_type": "execute_result"
    }
   ],
   "source": [
    "classes[y_classes[3]]"
   ]
  },
  {
   "cell_type": "code",
   "execution_count": null,
   "id": "188f4fda",
   "metadata": {},
   "outputs": [],
   "source": []
  }
 ],
 "metadata": {
  "kernelspec": {
   "display_name": "Python 3 (ipykernel)",
   "language": "python",
   "name": "python3"
  },
  "language_info": {
   "codemirror_mode": {
    "name": "ipython",
    "version": 3
   },
   "file_extension": ".py",
   "mimetype": "text/x-python",
   "name": "python",
   "nbconvert_exporter": "python",
   "pygments_lexer": "ipython3",
   "version": "3.9.12"
  }
 },
 "nbformat": 4,
 "nbformat_minor": 5
}
