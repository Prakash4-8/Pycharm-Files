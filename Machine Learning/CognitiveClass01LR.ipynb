import matplotlib.pyplot as plt
import pandas as pd
import pylab as pl
import numpy as np


df = pd.read_csv("D:\DOCUMENTS (EDU)\CURAJ\SEM2\ML\FuelConsumptionCo2.csv")
print(df.head())

print(df.describe())